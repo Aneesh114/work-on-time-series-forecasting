{
 "cells": [
  {
   "cell_type": "markdown",
   "id": "68264777",
   "metadata": {},
   "source": [
    "# What is Time Series Forecasting?\n",
    "### Time series forecasting occurs when you make scientific predictions based on historical time stamped data using statistics and modelling\n",
    "\n",
    "### 1) EDA - Plots, Visualizations, Summaries and finding relations between features\n",
    "### 2) Data Engineering\n",
    "### 3) Model Building\n",
    "### 4) Model Validation\n",
    "\n"
   ]
  },
  {
   "cell_type": "code",
   "execution_count": 71,
   "id": "d0582b1f",
   "metadata": {},
   "outputs": [],
   "source": [
    "import warnings\n",
    "warnings.filterwarnings('ignore')\n",
    "import numpy as np \n",
    "import pandas as pd\n",
    "import matplotlib.pyplot as plt\n",
    "import seaborn as sns\n",
    "from statsmodels.graphics.tsaplots import plot_acf,plot_pacf\n",
    "from statsmodels.tsa.stattools import ccf\n",
    "from statsmodels.tsa.stattools import adfuller\n",
    "from statsmodels.tsa.seasonal import seasonal_decompose\n",
    "from statsmodels.tsa.arima.model import ARIMA\n",
    "from statsmodels.tsa.api import VAR\n",
    "from sklearn.linear_model import LinearRegression\n",
    "from sklearn.preprocessing import StandardScaler\n",
    "from statsmodels.tsa.stattools import grangercausalitytests"
   ]
  },
  {
   "cell_type": "markdown",
   "id": "6886d14e",
   "metadata": {},
   "source": [
    "\n",
    "#### 1) Univariate - one feature/variable\n",
    "#### 2) Multivariate - more than one feature/variable"
   ]
  },
  {
   "cell_type": "code",
   "execution_count": 72,
   "id": "10b359fb",
   "metadata": {},
   "outputs": [],
   "source": [
    "#google = pd.read_csv('Data/GOOGL_2006-01-01_to_2018-01-01.csv')\n",
    "#df = google['High']\n",
    "#df"
   ]
  },
  {
   "cell_type": "code",
   "execution_count": 73,
   "id": "a03340e1",
   "metadata": {},
   "outputs": [],
   "source": [
    "#plt.figure(figsize=(16,5))\n",
    "#df.plot()"
   ]
  },
  {
   "cell_type": "code",
   "execution_count": 74,
   "id": "4204142f",
   "metadata": {},
   "outputs": [
    {
     "data": {
      "text/html": [
       "<div>\n",
       "<style scoped>\n",
       "    .dataframe tbody tr th:only-of-type {\n",
       "        vertical-align: middle;\n",
       "    }\n",
       "\n",
       "    .dataframe tbody tr th {\n",
       "        vertical-align: top;\n",
       "    }\n",
       "\n",
       "    .dataframe thead th {\n",
       "        text-align: right;\n",
       "    }\n",
       "</style>\n",
       "<table border=\"1\" class=\"dataframe\">\n",
       "  <thead>\n",
       "    <tr style=\"text-align: right;\">\n",
       "      <th></th>\n",
       "      <th>Date</th>\n",
       "      <th>Time</th>\n",
       "      <th>CO(GT)</th>\n",
       "      <th>PT08.S1(CO)</th>\n",
       "      <th>NMHC(GT)</th>\n",
       "      <th>C6H6(GT)</th>\n",
       "      <th>PT08.S2(NMHC)</th>\n",
       "      <th>NOx(GT)</th>\n",
       "      <th>PT08.S3(NOx)</th>\n",
       "      <th>NO2(GT)</th>\n",
       "      <th>PT08.S4(NO2)</th>\n",
       "      <th>PT08.S5(O3)</th>\n",
       "      <th>T</th>\n",
       "      <th>RH</th>\n",
       "      <th>AH</th>\n",
       "      <th>Unnamed: 15</th>\n",
       "      <th>Unnamed: 16</th>\n",
       "    </tr>\n",
       "  </thead>\n",
       "  <tbody>\n",
       "    <tr>\n",
       "      <th>0</th>\n",
       "      <td>10/03/2004</td>\n",
       "      <td>18.00.00</td>\n",
       "      <td>2.6</td>\n",
       "      <td>1360.0</td>\n",
       "      <td>150.0</td>\n",
       "      <td>11.9</td>\n",
       "      <td>1046.0</td>\n",
       "      <td>166.0</td>\n",
       "      <td>1056.0</td>\n",
       "      <td>113.0</td>\n",
       "      <td>1692.0</td>\n",
       "      <td>1268.0</td>\n",
       "      <td>13.6</td>\n",
       "      <td>48.9</td>\n",
       "      <td>0.7578</td>\n",
       "      <td>NaN</td>\n",
       "      <td>NaN</td>\n",
       "    </tr>\n",
       "    <tr>\n",
       "      <th>1</th>\n",
       "      <td>10/03/2004</td>\n",
       "      <td>19.00.00</td>\n",
       "      <td>2.0</td>\n",
       "      <td>1292.0</td>\n",
       "      <td>112.0</td>\n",
       "      <td>9.4</td>\n",
       "      <td>955.0</td>\n",
       "      <td>103.0</td>\n",
       "      <td>1174.0</td>\n",
       "      <td>92.0</td>\n",
       "      <td>1559.0</td>\n",
       "      <td>972.0</td>\n",
       "      <td>13.3</td>\n",
       "      <td>47.7</td>\n",
       "      <td>0.7255</td>\n",
       "      <td>NaN</td>\n",
       "      <td>NaN</td>\n",
       "    </tr>\n",
       "    <tr>\n",
       "      <th>2</th>\n",
       "      <td>10/03/2004</td>\n",
       "      <td>20.00.00</td>\n",
       "      <td>2.2</td>\n",
       "      <td>1402.0</td>\n",
       "      <td>88.0</td>\n",
       "      <td>9.0</td>\n",
       "      <td>939.0</td>\n",
       "      <td>131.0</td>\n",
       "      <td>1140.0</td>\n",
       "      <td>114.0</td>\n",
       "      <td>1555.0</td>\n",
       "      <td>1074.0</td>\n",
       "      <td>11.9</td>\n",
       "      <td>54.0</td>\n",
       "      <td>0.7502</td>\n",
       "      <td>NaN</td>\n",
       "      <td>NaN</td>\n",
       "    </tr>\n",
       "    <tr>\n",
       "      <th>3</th>\n",
       "      <td>10/03/2004</td>\n",
       "      <td>21.00.00</td>\n",
       "      <td>2.2</td>\n",
       "      <td>1376.0</td>\n",
       "      <td>80.0</td>\n",
       "      <td>9.2</td>\n",
       "      <td>948.0</td>\n",
       "      <td>172.0</td>\n",
       "      <td>1092.0</td>\n",
       "      <td>122.0</td>\n",
       "      <td>1584.0</td>\n",
       "      <td>1203.0</td>\n",
       "      <td>11.0</td>\n",
       "      <td>60.0</td>\n",
       "      <td>0.7867</td>\n",
       "      <td>NaN</td>\n",
       "      <td>NaN</td>\n",
       "    </tr>\n",
       "    <tr>\n",
       "      <th>4</th>\n",
       "      <td>10/03/2004</td>\n",
       "      <td>22.00.00</td>\n",
       "      <td>1.6</td>\n",
       "      <td>1272.0</td>\n",
       "      <td>51.0</td>\n",
       "      <td>6.5</td>\n",
       "      <td>836.0</td>\n",
       "      <td>131.0</td>\n",
       "      <td>1205.0</td>\n",
       "      <td>116.0</td>\n",
       "      <td>1490.0</td>\n",
       "      <td>1110.0</td>\n",
       "      <td>11.2</td>\n",
       "      <td>59.6</td>\n",
       "      <td>0.7888</td>\n",
       "      <td>NaN</td>\n",
       "      <td>NaN</td>\n",
       "    </tr>\n",
       "    <tr>\n",
       "      <th>...</th>\n",
       "      <td>...</td>\n",
       "      <td>...</td>\n",
       "      <td>...</td>\n",
       "      <td>...</td>\n",
       "      <td>...</td>\n",
       "      <td>...</td>\n",
       "      <td>...</td>\n",
       "      <td>...</td>\n",
       "      <td>...</td>\n",
       "      <td>...</td>\n",
       "      <td>...</td>\n",
       "      <td>...</td>\n",
       "      <td>...</td>\n",
       "      <td>...</td>\n",
       "      <td>...</td>\n",
       "      <td>...</td>\n",
       "      <td>...</td>\n",
       "    </tr>\n",
       "    <tr>\n",
       "      <th>9466</th>\n",
       "      <td>NaN</td>\n",
       "      <td>NaN</td>\n",
       "      <td>NaN</td>\n",
       "      <td>NaN</td>\n",
       "      <td>NaN</td>\n",
       "      <td>NaN</td>\n",
       "      <td>NaN</td>\n",
       "      <td>NaN</td>\n",
       "      <td>NaN</td>\n",
       "      <td>NaN</td>\n",
       "      <td>NaN</td>\n",
       "      <td>NaN</td>\n",
       "      <td>NaN</td>\n",
       "      <td>NaN</td>\n",
       "      <td>NaN</td>\n",
       "      <td>NaN</td>\n",
       "      <td>NaN</td>\n",
       "    </tr>\n",
       "    <tr>\n",
       "      <th>9467</th>\n",
       "      <td>NaN</td>\n",
       "      <td>NaN</td>\n",
       "      <td>NaN</td>\n",
       "      <td>NaN</td>\n",
       "      <td>NaN</td>\n",
       "      <td>NaN</td>\n",
       "      <td>NaN</td>\n",
       "      <td>NaN</td>\n",
       "      <td>NaN</td>\n",
       "      <td>NaN</td>\n",
       "      <td>NaN</td>\n",
       "      <td>NaN</td>\n",
       "      <td>NaN</td>\n",
       "      <td>NaN</td>\n",
       "      <td>NaN</td>\n",
       "      <td>NaN</td>\n",
       "      <td>NaN</td>\n",
       "    </tr>\n",
       "    <tr>\n",
       "      <th>9468</th>\n",
       "      <td>NaN</td>\n",
       "      <td>NaN</td>\n",
       "      <td>NaN</td>\n",
       "      <td>NaN</td>\n",
       "      <td>NaN</td>\n",
       "      <td>NaN</td>\n",
       "      <td>NaN</td>\n",
       "      <td>NaN</td>\n",
       "      <td>NaN</td>\n",
       "      <td>NaN</td>\n",
       "      <td>NaN</td>\n",
       "      <td>NaN</td>\n",
       "      <td>NaN</td>\n",
       "      <td>NaN</td>\n",
       "      <td>NaN</td>\n",
       "      <td>NaN</td>\n",
       "      <td>NaN</td>\n",
       "    </tr>\n",
       "    <tr>\n",
       "      <th>9469</th>\n",
       "      <td>NaN</td>\n",
       "      <td>NaN</td>\n",
       "      <td>NaN</td>\n",
       "      <td>NaN</td>\n",
       "      <td>NaN</td>\n",
       "      <td>NaN</td>\n",
       "      <td>NaN</td>\n",
       "      <td>NaN</td>\n",
       "      <td>NaN</td>\n",
       "      <td>NaN</td>\n",
       "      <td>NaN</td>\n",
       "      <td>NaN</td>\n",
       "      <td>NaN</td>\n",
       "      <td>NaN</td>\n",
       "      <td>NaN</td>\n",
       "      <td>NaN</td>\n",
       "      <td>NaN</td>\n",
       "    </tr>\n",
       "    <tr>\n",
       "      <th>9470</th>\n",
       "      <td>NaN</td>\n",
       "      <td>NaN</td>\n",
       "      <td>NaN</td>\n",
       "      <td>NaN</td>\n",
       "      <td>NaN</td>\n",
       "      <td>NaN</td>\n",
       "      <td>NaN</td>\n",
       "      <td>NaN</td>\n",
       "      <td>NaN</td>\n",
       "      <td>NaN</td>\n",
       "      <td>NaN</td>\n",
       "      <td>NaN</td>\n",
       "      <td>NaN</td>\n",
       "      <td>NaN</td>\n",
       "      <td>NaN</td>\n",
       "      <td>NaN</td>\n",
       "      <td>NaN</td>\n",
       "    </tr>\n",
       "  </tbody>\n",
       "</table>\n",
       "<p>9471 rows × 17 columns</p>\n",
       "</div>"
      ],
      "text/plain": [
       "            Date      Time  CO(GT)  PT08.S1(CO)  NMHC(GT)  ...     T    RH      AH  Unnamed: 15  Unnamed: 16\n",
       "0     10/03/2004  18.00.00     2.6       1360.0     150.0  ...  13.6  48.9  0.7578          NaN          NaN\n",
       "1     10/03/2004  19.00.00     2.0       1292.0     112.0  ...  13.3  47.7  0.7255          NaN          NaN\n",
       "2     10/03/2004  20.00.00     2.2       1402.0      88.0  ...  11.9  54.0  0.7502          NaN          NaN\n",
       "3     10/03/2004  21.00.00     2.2       1376.0      80.0  ...  11.0  60.0  0.7867          NaN          NaN\n",
       "4     10/03/2004  22.00.00     1.6       1272.0      51.0  ...  11.2  59.6  0.7888          NaN          NaN\n",
       "...          ...       ...     ...          ...       ...  ...   ...   ...     ...          ...          ...\n",
       "9466         NaN       NaN     NaN          NaN       NaN  ...   NaN   NaN     NaN          NaN          NaN\n",
       "9467         NaN       NaN     NaN          NaN       NaN  ...   NaN   NaN     NaN          NaN          NaN\n",
       "9468         NaN       NaN     NaN          NaN       NaN  ...   NaN   NaN     NaN          NaN          NaN\n",
       "9469         NaN       NaN     NaN          NaN       NaN  ...   NaN   NaN     NaN          NaN          NaN\n",
       "9470         NaN       NaN     NaN          NaN       NaN  ...   NaN   NaN     NaN          NaN          NaN\n",
       "\n",
       "[9471 rows x 17 columns]"
      ]
     },
     "execution_count": 74,
     "metadata": {},
     "output_type": "execute_result"
    }
   ],
   "source": [
    "df = pd.read_csv('Data/AirQuality.csv',sep = ';',decimal=',')\n",
    "df"
   ]
  },
  {
   "cell_type": "code",
   "execution_count": 76,
   "id": "7823a975",
   "metadata": {},
   "outputs": [],
   "source": [
    "df = df.drop(['Unnamed: 15','Unnamed: 16'],axis = 1)\n",
    "# removing these 2 columns because they are completely null"
   ]
  },
  {
   "cell_type": "code",
   "execution_count": 77,
   "id": "42db161b",
   "metadata": {},
   "outputs": [],
   "source": [
    "null_data = df[df.isnull().any(axis = 1)]\n",
    "null_data\n",
    "#checking for rows/columns containing null values"
   ]
  },
  {
   "cell_type": "code",
   "execution_count": 78,
   "id": "f9554bcc",
   "metadata": {},
   "outputs": [
    {
     "data": {
      "text/html": [
       "<div>\n",
       "<style scoped>\n",
       "    .dataframe tbody tr th:only-of-type {\n",
       "        vertical-align: middle;\n",
       "    }\n",
       "\n",
       "    .dataframe tbody tr th {\n",
       "        vertical-align: top;\n",
       "    }\n",
       "\n",
       "    .dataframe thead th {\n",
       "        text-align: right;\n",
       "    }\n",
       "</style>\n",
       "<table border=\"1\" class=\"dataframe\">\n",
       "  <thead>\n",
       "    <tr style=\"text-align: right;\">\n",
       "      <th></th>\n",
       "      <th>CO(GT)</th>\n",
       "      <th>PT08.S1(CO)</th>\n",
       "      <th>NMHC(GT)</th>\n",
       "      <th>C6H6(GT)</th>\n",
       "      <th>PT08.S2(NMHC)</th>\n",
       "      <th>NOx(GT)</th>\n",
       "      <th>PT08.S3(NOx)</th>\n",
       "      <th>NO2(GT)</th>\n",
       "      <th>PT08.S4(NO2)</th>\n",
       "      <th>PT08.S5(O3)</th>\n",
       "      <th>T</th>\n",
       "      <th>RH</th>\n",
       "      <th>AH</th>\n",
       "    </tr>\n",
       "  </thead>\n",
       "  <tbody>\n",
       "    <tr>\n",
       "      <th>count</th>\n",
       "      <td>9357.000000</td>\n",
       "      <td>9357.000000</td>\n",
       "      <td>9357.000000</td>\n",
       "      <td>9357.000000</td>\n",
       "      <td>9357.000000</td>\n",
       "      <td>9357.000000</td>\n",
       "      <td>9357.000000</td>\n",
       "      <td>9357.000000</td>\n",
       "      <td>9357.000000</td>\n",
       "      <td>9357.000000</td>\n",
       "      <td>9357.000000</td>\n",
       "      <td>9357.000000</td>\n",
       "      <td>9357.000000</td>\n",
       "    </tr>\n",
       "    <tr>\n",
       "      <th>mean</th>\n",
       "      <td>-34.207524</td>\n",
       "      <td>1048.990061</td>\n",
       "      <td>-159.090093</td>\n",
       "      <td>1.865683</td>\n",
       "      <td>894.595276</td>\n",
       "      <td>168.616971</td>\n",
       "      <td>794.990168</td>\n",
       "      <td>58.148873</td>\n",
       "      <td>1391.479641</td>\n",
       "      <td>975.072032</td>\n",
       "      <td>9.778305</td>\n",
       "      <td>39.485380</td>\n",
       "      <td>-6.837604</td>\n",
       "    </tr>\n",
       "    <tr>\n",
       "      <th>std</th>\n",
       "      <td>77.657170</td>\n",
       "      <td>329.832710</td>\n",
       "      <td>139.789093</td>\n",
       "      <td>41.380206</td>\n",
       "      <td>342.333252</td>\n",
       "      <td>257.433866</td>\n",
       "      <td>321.993552</td>\n",
       "      <td>126.940455</td>\n",
       "      <td>467.210125</td>\n",
       "      <td>456.938184</td>\n",
       "      <td>43.203623</td>\n",
       "      <td>51.216145</td>\n",
       "      <td>38.976670</td>\n",
       "    </tr>\n",
       "    <tr>\n",
       "      <th>min</th>\n",
       "      <td>-200.000000</td>\n",
       "      <td>-200.000000</td>\n",
       "      <td>-200.000000</td>\n",
       "      <td>-200.000000</td>\n",
       "      <td>-200.000000</td>\n",
       "      <td>-200.000000</td>\n",
       "      <td>-200.000000</td>\n",
       "      <td>-200.000000</td>\n",
       "      <td>-200.000000</td>\n",
       "      <td>-200.000000</td>\n",
       "      <td>-200.000000</td>\n",
       "      <td>-200.000000</td>\n",
       "      <td>-200.000000</td>\n",
       "    </tr>\n",
       "    <tr>\n",
       "      <th>25%</th>\n",
       "      <td>0.600000</td>\n",
       "      <td>921.000000</td>\n",
       "      <td>-200.000000</td>\n",
       "      <td>4.000000</td>\n",
       "      <td>711.000000</td>\n",
       "      <td>50.000000</td>\n",
       "      <td>637.000000</td>\n",
       "      <td>53.000000</td>\n",
       "      <td>1185.000000</td>\n",
       "      <td>700.000000</td>\n",
       "      <td>10.900000</td>\n",
       "      <td>34.100000</td>\n",
       "      <td>0.692300</td>\n",
       "    </tr>\n",
       "    <tr>\n",
       "      <th>50%</th>\n",
       "      <td>1.500000</td>\n",
       "      <td>1053.000000</td>\n",
       "      <td>-200.000000</td>\n",
       "      <td>7.900000</td>\n",
       "      <td>895.000000</td>\n",
       "      <td>141.000000</td>\n",
       "      <td>794.000000</td>\n",
       "      <td>96.000000</td>\n",
       "      <td>1446.000000</td>\n",
       "      <td>942.000000</td>\n",
       "      <td>17.200000</td>\n",
       "      <td>48.600000</td>\n",
       "      <td>0.976800</td>\n",
       "    </tr>\n",
       "    <tr>\n",
       "      <th>75%</th>\n",
       "      <td>2.600000</td>\n",
       "      <td>1221.000000</td>\n",
       "      <td>-200.000000</td>\n",
       "      <td>13.600000</td>\n",
       "      <td>1105.000000</td>\n",
       "      <td>284.000000</td>\n",
       "      <td>960.000000</td>\n",
       "      <td>133.000000</td>\n",
       "      <td>1662.000000</td>\n",
       "      <td>1255.000000</td>\n",
       "      <td>24.100000</td>\n",
       "      <td>61.900000</td>\n",
       "      <td>1.296200</td>\n",
       "    </tr>\n",
       "    <tr>\n",
       "      <th>max</th>\n",
       "      <td>11.900000</td>\n",
       "      <td>2040.000000</td>\n",
       "      <td>1189.000000</td>\n",
       "      <td>63.700000</td>\n",
       "      <td>2214.000000</td>\n",
       "      <td>1479.000000</td>\n",
       "      <td>2683.000000</td>\n",
       "      <td>340.000000</td>\n",
       "      <td>2775.000000</td>\n",
       "      <td>2523.000000</td>\n",
       "      <td>44.600000</td>\n",
       "      <td>88.700000</td>\n",
       "      <td>2.231000</td>\n",
       "    </tr>\n",
       "  </tbody>\n",
       "</table>\n",
       "</div>"
      ],
      "text/plain": [
       "            CO(GT)  PT08.S1(CO)     NMHC(GT)     C6H6(GT)  ...  PT08.S5(O3)            T           RH           AH\n",
       "count  9357.000000  9357.000000  9357.000000  9357.000000  ...  9357.000000  9357.000000  9357.000000  9357.000000\n",
       "mean    -34.207524  1048.990061  -159.090093     1.865683  ...   975.072032     9.778305    39.485380    -6.837604\n",
       "std      77.657170   329.832710   139.789093    41.380206  ...   456.938184    43.203623    51.216145    38.976670\n",
       "min    -200.000000  -200.000000  -200.000000  -200.000000  ...  -200.000000  -200.000000  -200.000000  -200.000000\n",
       "25%       0.600000   921.000000  -200.000000     4.000000  ...   700.000000    10.900000    34.100000     0.692300\n",
       "50%       1.500000  1053.000000  -200.000000     7.900000  ...   942.000000    17.200000    48.600000     0.976800\n",
       "75%       2.600000  1221.000000  -200.000000    13.600000  ...  1255.000000    24.100000    61.900000     1.296200\n",
       "max      11.900000  2040.000000  1189.000000    63.700000  ...  2523.000000    44.600000    88.700000     2.231000\n",
       "\n",
       "[8 rows x 13 columns]"
      ]
     },
     "execution_count": 78,
     "metadata": {},
     "output_type": "execute_result"
    }
   ],
   "source": [
    "df.dropna(inplace = True)\n",
    "df.describe()\n",
    "#removing null values "
   ]
  },
  {
   "cell_type": "markdown",
   "id": "3969bfe9",
   "metadata": {},
   "source": [
    "### from above table it is observed that all min values are -200. So it must be used to replace null values. We remove or impute those"
   ]
  },
  {
   "cell_type": "code",
   "execution_count": 79,
   "id": "247ac348",
   "metadata": {},
   "outputs": [],
   "source": [
    "df = df.replace(-200,np.nan)\n",
    "#df.info()"
   ]
  },
  {
   "cell_type": "code",
   "execution_count": 80,
   "id": "82697d9e",
   "metadata": {},
   "outputs": [],
   "source": [
    "df.loc[:,'Datetime'] = df['Date'] + ' ' + df['Time']\n",
    "from datetime import datetime\n",
    "DateTime = []\n",
    "for x in df['Datetime']:\n",
    "    DateTime.append(datetime.strptime(x,'%d/%m/%Y %H.%M.%S'))\n",
    "datetime = pd.Series(DateTime)\n",
    "df.index = datetime\n",
    "df = df.drop(['Date','Time'],axis = 1)\n",
    "df = df.drop(['Datetime'],axis = 1)\n",
    "#making data and time into one column"
   ]
  },
  {
   "cell_type": "code",
   "execution_count": 81,
   "id": "c6d2437d",
   "metadata": {},
   "outputs": [
    {
     "name": "stdout",
     "output_type": "stream",
     "text": [
      "<class 'pandas.core.frame.DataFrame'>\n",
      "DatetimeIndex: 9357 entries, 2004-03-10 18:00:00 to 2005-04-04 14:00:00\n",
      "Data columns (total 12 columns):\n",
      " #   Column         Non-Null Count  Dtype  \n",
      "---  ------         --------------  -----  \n",
      " 0   CO(GT)         9357 non-null   float64\n",
      " 1   PT08.S1(CO)    9357 non-null   float64\n",
      " 2   C6H6(GT)       9357 non-null   float64\n",
      " 3   PT08.S2(NMHC)  9357 non-null   float64\n",
      " 4   NOx(GT)        9357 non-null   float64\n",
      " 5   PT08.S3(NOx)   9357 non-null   float64\n",
      " 6   NO2(GT)        9357 non-null   float64\n",
      " 7   PT08.S4(NO2)   9357 non-null   float64\n",
      " 8   PT08.S5(O3)    9357 non-null   float64\n",
      " 9   T              9357 non-null   float64\n",
      " 10  RH             9357 non-null   float64\n",
      " 11  AH             9357 non-null   float64\n",
      "dtypes: float64(12)\n",
      "memory usage: 950.3 KB\n"
     ]
    }
   ],
   "source": [
    "df = df.drop(['NMHC(GT)'],axis =1)#because it has many null values\n",
    "for c in df.columns:\n",
    "    df = df.fillna(df[c].mean())\n",
    "df.info()"
   ]
  },
  {
   "cell_type": "code",
   "execution_count": 82,
   "id": "d6f1c45e",
   "metadata": {},
   "outputs": [
    {
     "data": {
      "text/plain": [
       "(-11.050662112980005,\n",
       " 5.089829692842113e-20,\n",
       " 36,\n",
       " 9320,\n",
       " {'1%': -3.431051834977192,\n",
       "  '5%': -2.8618501668189706,\n",
       "  '10%': -2.5669350967161857},\n",
       " 18988.55969088252)"
      ]
     },
     "execution_count": 82,
     "metadata": {},
     "output_type": "execute_result"
    }
   ],
   "source": [
    "adfuller(df['CO(GT)'])"
   ]
  },
  {
   "cell_type": "code",
   "execution_count": 89,
   "id": "a07bb208",
   "metadata": {},
   "outputs": [
    {
     "data": {
      "text/plain": [
       "<AxesSubplot:>"
      ]
     },
     "execution_count": 89,
     "metadata": {},
     "output_type": "execute_result"
    },
    {
     "data": {
      "image/png": "[encoded data removed]",
      "text/plain": [
       "<Figure size 1152x360 with 2 Axes>"
      ]
     },
     "metadata": {
      "needs_background": "light"
     },
     "output_type": "display_data"
    }
   ],
   "source": [
    "plt.figure(figsize=(16,5))\n",
    "sns.heatmap(df.corr(),annot=True)\n",
    "#gives correlation between features"
   ]
  },
  {
   "cell_type": "markdown",
   "id": "d0d9e3b6",
   "metadata": {},
   "source": [
    "### If more than one feature strongly influence our output, then we can use linear regression to predict those values. We can forecast the respective features and use them to reg fit and predict the values."
   ]
  },
  {
   "cell_type": "code",
   "execution_count": 20,
   "id": "de95c84f",
   "metadata": {},
   "outputs": [],
   "source": [
    "regr = LinearRegression()\n",
    "x_train = df.iloc[0:6000,[0,2]]\n",
    "y_train = df.iloc[0:6000,[1]]\n",
    "x_test = df.iloc[6000:,[0,2]]\n",
    "y_test = df.iloc[6000:,[1]]\n",
    "\n"
   ]
  },
  {
   "cell_type": "code",
   "execution_count": 21,
   "id": "413d961c",
   "metadata": {},
   "outputs": [
    {
     "data": {
      "text/plain": [
       "LinearRegression()"
      ]
     },
     "execution_count": 21,
     "metadata": {},
     "output_type": "execute_result"
    }
   ],
   "source": [
    "regr.fit(x_train,y_train) # predicting y using x by linear regression\n"
   ]
  },
  {
   "cell_type": "code",
   "execution_count": 22,
   "id": "46a1a13c",
   "metadata": {},
   "outputs": [
    {
     "data": {
      "text/plain": [
       "array([771.87838677])"
      ]
     },
     "execution_count": 22,
     "metadata": {},
     "output_type": "execute_result"
    }
   ],
   "source": [
    "regr.intercept_"
   ]
  },
  {
   "cell_type": "code",
   "execution_count": 23,
   "id": "616e1793",
   "metadata": {},
   "outputs": [
    {
     "data": {
      "text/plain": [
       "array([[-9.09381093, 30.10439127]])"
      ]
     },
     "execution_count": 23,
     "metadata": {},
     "output_type": "execute_result"
    }
   ],
   "source": [
    "regr.coef_"
   ]
  },
  {
   "cell_type": "code",
   "execution_count": null,
   "id": "3ee582be",
   "metadata": {},
   "outputs": [],
   "source": []
  },
  {
   "cell_type": "code",
   "execution_count": 24,
   "id": "c76df7b6",
   "metadata": {},
   "outputs": [],
   "source": [
    "from pmdarima import auto_arima"
   ]
  },
  {
   "cell_type": "code",
   "execution_count": 25,
   "id": "0a824d6b",
   "metadata": {},
   "outputs": [
    {
     "data": {
      "text/plain": [
       "ARIMA(order=(0, 1, 5), scoring_args={}, suppress_warnings=True,\n",
       "      with_intercept=False)"
      ]
     },
     "execution_count": 25,
     "metadata": {},
     "output_type": "execute_result"
    }
   ],
   "source": [
    "m11 = auto_arima(df['CO(GT)'][0:6000])\n",
    "m11 "
   ]
  },
  {
   "cell_type": "code",
   "execution_count": 26,
   "id": "753d86bb",
   "metadata": {},
   "outputs": [
    {
     "name": "stderr",
     "output_type": "stream",
     "text": [
      "C:\\Users\\dreddy86\\Anaconda3\\lib\\site-packages\\statsmodels\\tsa\\base\\tsa_model.py:471: ValueWarning: No frequency information was provided, so inferred frequency H will be used.\n",
      "  self._init_dates(dates, freq)\n",
      "C:\\Users\\dreddy86\\Anaconda3\\lib\\site-packages\\statsmodels\\tsa\\base\\tsa_model.py:471: ValueWarning: No frequency information was provided, so inferred frequency H will be used.\n",
      "  self._init_dates(dates, freq)\n",
      "C:\\Users\\dreddy86\\Anaconda3\\lib\\site-packages\\statsmodels\\tsa\\base\\tsa_model.py:471: ValueWarning: No frequency information was provided, so inferred frequency H will be used.\n",
      "  self._init_dates(dates, freq)\n"
     ]
    },
    {
     "data": {
      "text/html": [
       "<table class=\"simpletable\">\n",
       "<caption>SARIMAX Results</caption>\n",
       "<tr>\n",
       "  <th>Dep. Variable:</th>        <td>CO(GT)</td>      <th>  No. Observations:  </th>   <td>6000</td>   \n",
       "</tr>\n",
       "<tr>\n",
       "  <th>Model:</th>            <td>ARIMA(0, 1, 5)</td>  <th>  Log Likelihood     </th> <td>-6474.320</td>\n",
       "</tr>\n",
       "<tr>\n",
       "  <th>Date:</th>            <td>Fri, 14 Oct 2022</td> <th>  AIC                </th> <td>12960.640</td>\n",
       "</tr>\n",
       "<tr>\n",
       "  <th>Time:</th>                <td>15:20:43</td>     <th>  BIC                </th> <td>13000.837</td>\n",
       "</tr>\n",
       "<tr>\n",
       "  <th>Sample:</th>             <td>03-10-2004</td>    <th>  HQIC               </th> <td>12974.599</td>\n",
       "</tr>\n",
       "<tr>\n",
       "  <th></th>                   <td>- 11-15-2004</td>   <th>                     </th>     <td> </td>    \n",
       "</tr>\n",
       "<tr>\n",
       "  <th>Covariance Type:</th>        <td>opg</td>       <th>                     </th>     <td> </td>    \n",
       "</tr>\n",
       "</table>\n",
       "<table class=\"simpletable\">\n",
       "<tr>\n",
       "     <td></td>       <th>coef</th>     <th>std err</th>      <th>z</th>      <th>P>|z|</th>  <th>[0.025</th>    <th>0.975]</th>  \n",
       "</tr>\n",
       "<tr>\n",
       "  <th>ma.L1</th>  <td>   -0.0595</td> <td>    0.008</td> <td>   -7.326</td> <td> 0.000</td> <td>   -0.075</td> <td>   -0.044</td>\n",
       "</tr>\n",
       "<tr>\n",
       "  <th>ma.L2</th>  <td>   -0.3070</td> <td>    0.009</td> <td>  -32.650</td> <td> 0.000</td> <td>   -0.325</td> <td>   -0.289</td>\n",
       "</tr>\n",
       "<tr>\n",
       "  <th>ma.L3</th>  <td>   -0.2920</td> <td>    0.010</td> <td>  -29.197</td> <td> 0.000</td> <td>   -0.312</td> <td>   -0.272</td>\n",
       "</tr>\n",
       "<tr>\n",
       "  <th>ma.L4</th>  <td>   -0.1885</td> <td>    0.010</td> <td>  -18.352</td> <td> 0.000</td> <td>   -0.209</td> <td>   -0.168</td>\n",
       "</tr>\n",
       "<tr>\n",
       "  <th>ma.L5</th>  <td>   -0.0845</td> <td>    0.012</td> <td>   -7.062</td> <td> 0.000</td> <td>   -0.108</td> <td>   -0.061</td>\n",
       "</tr>\n",
       "<tr>\n",
       "  <th>sigma2</th> <td>    0.5067</td> <td>    0.005</td> <td>  104.470</td> <td> 0.000</td> <td>    0.497</td> <td>    0.516</td>\n",
       "</tr>\n",
       "</table>\n",
       "<table class=\"simpletable\">\n",
       "<tr>\n",
       "  <th>Ljung-Box (L1) (Q):</th>     <td>0.35</td> <th>  Jarque-Bera (JB):  </th> <td>7968.86</td>\n",
       "</tr>\n",
       "<tr>\n",
       "  <th>Prob(Q):</th>                <td>0.56</td> <th>  Prob(JB):          </th>  <td>0.00</td>  \n",
       "</tr>\n",
       "<tr>\n",
       "  <th>Heteroskedasticity (H):</th> <td>0.92</td> <th>  Skew:              </th>  <td>0.85</td>  \n",
       "</tr>\n",
       "<tr>\n",
       "  <th>Prob(H) (two-sided):</th>    <td>0.05</td> <th>  Kurtosis:          </th>  <td>8.38</td>  \n",
       "</tr>\n",
       "</table><br/><br/>Warnings:<br/>[1] Covariance matrix calculated using the outer product of gradients (complex-step)."
      ],
      "text/plain": [
       "<class 'statsmodels.iolib.summary.Summary'>\n",
       "\"\"\"\n",
       "                               SARIMAX Results                                \n",
       "==============================================================================\n",
       "Dep. Variable:                 CO(GT)   No. Observations:                 6000\n",
       "Model:                 ARIMA(0, 1, 5)   Log Likelihood               -6474.320\n",
       "Date:                Fri, 14 Oct 2022   AIC                          12960.640\n",
       "Time:                        15:20:43   BIC                          13000.837\n",
       "Sample:                    03-10-2004   HQIC                         12974.599\n",
       "                         - 11-15-2004                                         \n",
       "Covariance Type:                  opg                                         \n",
       "==============================================================================\n",
       "                 coef    std err          z      P>|z|      [0.025      0.975]\n",
       "------------------------------------------------------------------------------\n",
       "ma.L1         -0.0595      0.008     -7.326      0.000      -0.075      -0.044\n",
       "ma.L2         -0.3070      0.009    -32.650      0.000      -0.325      -0.289\n",
       "ma.L3         -0.2920      0.010    -29.197      0.000      -0.312      -0.272\n",
       "ma.L4         -0.1885      0.010    -18.352      0.000      -0.209      -0.168\n",
       "ma.L5         -0.0845      0.012     -7.062      0.000      -0.108      -0.061\n",
       "sigma2         0.5067      0.005    104.470      0.000       0.497       0.516\n",
       "===================================================================================\n",
       "Ljung-Box (L1) (Q):                   0.35   Jarque-Bera (JB):              7968.86\n",
       "Prob(Q):                              0.56   Prob(JB):                         0.00\n",
       "Heteroskedasticity (H):               0.92   Skew:                             0.85\n",
       "Prob(H) (two-sided):                  0.05   Kurtosis:                         8.38\n",
       "===================================================================================\n",
       "\n",
       "Warnings:\n",
       "[1] Covariance matrix calculated using the outer product of gradients (complex-step).\n",
       "\"\"\""
      ]
     },
     "execution_count": 26,
     "metadata": {},
     "output_type": "execute_result"
    }
   ],
   "source": [
    "m11 = ARIMA(df['CO(GT)'][0:6000],order = (0,1,5))\n",
    "m1 = m11.fit()\n",
    "m1.summary()"
   ]
  },
  {
   "cell_type": "code",
   "execution_count": 27,
   "id": "357aed70",
   "metadata": {},
   "outputs": [
    {
     "data": {
      "text/plain": [
       "2004-11-15 18:00:00    2.464528\n",
       "2004-11-15 19:00:00    2.110152\n",
       "2004-11-15 20:00:00    1.791682\n",
       "2004-11-15 21:00:00    1.596468\n",
       "2004-11-15 22:00:00    1.513062\n",
       "2004-11-15 23:00:00    1.513062\n",
       "2004-11-16 00:00:00    1.513062\n",
       "2004-11-16 01:00:00    1.513062\n",
       "2004-11-16 02:00:00    1.513062\n",
       "2004-11-16 03:00:00    1.513062\n",
       "Freq: H, Name: predicted_mean, dtype: float64"
      ]
     },
     "execution_count": 27,
     "metadata": {},
     "output_type": "execute_result"
    }
   ],
   "source": [
    "m1.forecast(10)"
   ]
  },
  {
   "cell_type": "code",
   "execution_count": 28,
   "id": "35e8247a",
   "metadata": {},
   "outputs": [
    {
     "data": {
      "text/plain": [
       "ARIMA(order=(3, 1, 2), scoring_args={}, suppress_warnings=True,\n",
       "      with_intercept=False)"
      ]
     },
     "execution_count": 28,
     "metadata": {},
     "output_type": "execute_result"
    }
   ],
   "source": [
    "m21 = auto_arima(df['C6H6(GT)'][0:6000])\n",
    "m21"
   ]
  },
  {
   "cell_type": "code",
   "execution_count": 29,
   "id": "3773609c",
   "metadata": {},
   "outputs": [
    {
     "name": "stderr",
     "output_type": "stream",
     "text": [
      "C:\\Users\\dreddy86\\Anaconda3\\lib\\site-packages\\statsmodels\\tsa\\base\\tsa_model.py:471: ValueWarning: No frequency information was provided, so inferred frequency H will be used.\n",
      "  self._init_dates(dates, freq)\n",
      "C:\\Users\\dreddy86\\Anaconda3\\lib\\site-packages\\statsmodels\\tsa\\base\\tsa_model.py:471: ValueWarning: No frequency information was provided, so inferred frequency H will be used.\n",
      "  self._init_dates(dates, freq)\n",
      "C:\\Users\\dreddy86\\Anaconda3\\lib\\site-packages\\statsmodels\\tsa\\base\\tsa_model.py:471: ValueWarning: No frequency information was provided, so inferred frequency H will be used.\n",
      "  self._init_dates(dates, freq)\n"
     ]
    },
    {
     "data": {
      "text/html": [
       "<table class=\"simpletable\">\n",
       "<caption>SARIMAX Results</caption>\n",
       "<tr>\n",
       "  <th>Dep. Variable:</th>       <td>C6H6(GT)</td>     <th>  No. Observations:  </th>    <td>6000</td>   \n",
       "</tr>\n",
       "<tr>\n",
       "  <th>Model:</th>            <td>ARIMA(3, 1, 2)</td>  <th>  Log Likelihood     </th> <td>-16822.054</td>\n",
       "</tr>\n",
       "<tr>\n",
       "  <th>Date:</th>            <td>Fri, 14 Oct 2022</td> <th>  AIC                </th>  <td>33656.109</td>\n",
       "</tr>\n",
       "<tr>\n",
       "  <th>Time:</th>                <td>15:21:59</td>     <th>  BIC                </th>  <td>33696.305</td>\n",
       "</tr>\n",
       "<tr>\n",
       "  <th>Sample:</th>             <td>03-10-2004</td>    <th>  HQIC               </th>  <td>33670.068</td>\n",
       "</tr>\n",
       "<tr>\n",
       "  <th></th>                   <td>- 11-15-2004</td>   <th>                     </th>      <td> </td>    \n",
       "</tr>\n",
       "<tr>\n",
       "  <th>Covariance Type:</th>        <td>opg</td>       <th>                     </th>      <td> </td>    \n",
       "</tr>\n",
       "</table>\n",
       "<table class=\"simpletable\">\n",
       "<tr>\n",
       "     <td></td>       <th>coef</th>     <th>std err</th>      <th>z</th>      <th>P>|z|</th>  <th>[0.025</th>    <th>0.975]</th>  \n",
       "</tr>\n",
       "<tr>\n",
       "  <th>ar.L1</th>  <td>    0.2305</td> <td>    0.091</td> <td>    2.521</td> <td> 0.012</td> <td>    0.051</td> <td>    0.410</td>\n",
       "</tr>\n",
       "<tr>\n",
       "  <th>ar.L2</th>  <td>    0.5306</td> <td>    0.099</td> <td>    5.370</td> <td> 0.000</td> <td>    0.337</td> <td>    0.724</td>\n",
       "</tr>\n",
       "<tr>\n",
       "  <th>ar.L3</th>  <td>   -0.2351</td> <td>    0.036</td> <td>   -6.462</td> <td> 0.000</td> <td>   -0.306</td> <td>   -0.164</td>\n",
       "</tr>\n",
       "<tr>\n",
       "  <th>ma.L1</th>  <td>   -0.1567</td> <td>    0.090</td> <td>   -1.732</td> <td> 0.083</td> <td>   -0.334</td> <td>    0.021</td>\n",
       "</tr>\n",
       "<tr>\n",
       "  <th>ma.L2</th>  <td>   -0.8128</td> <td>    0.089</td> <td>   -9.179</td> <td> 0.000</td> <td>   -0.986</td> <td>   -0.639</td>\n",
       "</tr>\n",
       "<tr>\n",
       "  <th>sigma2</th> <td>   15.9600</td> <td>    0.149</td> <td>  106.888</td> <td> 0.000</td> <td>   15.667</td> <td>   16.253</td>\n",
       "</tr>\n",
       "</table>\n",
       "<table class=\"simpletable\">\n",
       "<tr>\n",
       "  <th>Ljung-Box (L1) (Q):</th>     <td>0.00</td> <th>  Jarque-Bera (JB):  </th> <td>13497.06</td>\n",
       "</tr>\n",
       "<tr>\n",
       "  <th>Prob(Q):</th>                <td>0.98</td> <th>  Prob(JB):          </th>   <td>0.00</td>  \n",
       "</tr>\n",
       "<tr>\n",
       "  <th>Heteroskedasticity (H):</th> <td>1.19</td> <th>  Skew:              </th>   <td>0.91</td>  \n",
       "</tr>\n",
       "<tr>\n",
       "  <th>Prob(H) (two-sided):</th>    <td>0.00</td> <th>  Kurtosis:          </th>   <td>10.12</td> \n",
       "</tr>\n",
       "</table><br/><br/>Warnings:<br/>[1] Covariance matrix calculated using the outer product of gradients (complex-step)."
      ],
      "text/plain": [
       "<class 'statsmodels.iolib.summary.Summary'>\n",
       "\"\"\"\n",
       "                               SARIMAX Results                                \n",
       "==============================================================================\n",
       "Dep. Variable:               C6H6(GT)   No. Observations:                 6000\n",
       "Model:                 ARIMA(3, 1, 2)   Log Likelihood              -16822.054\n",
       "Date:                Fri, 14 Oct 2022   AIC                          33656.109\n",
       "Time:                        15:21:59   BIC                          33696.305\n",
       "Sample:                    03-10-2004   HQIC                         33670.068\n",
       "                         - 11-15-2004                                         \n",
       "Covariance Type:                  opg                                         \n",
       "==============================================================================\n",
       "                 coef    std err          z      P>|z|      [0.025      0.975]\n",
       "------------------------------------------------------------------------------\n",
       "ar.L1          0.2305      0.091      2.521      0.012       0.051       0.410\n",
       "ar.L2          0.5306      0.099      5.370      0.000       0.337       0.724\n",
       "ar.L3         -0.2351      0.036     -6.462      0.000      -0.306      -0.164\n",
       "ma.L1         -0.1567      0.090     -1.732      0.083      -0.334       0.021\n",
       "ma.L2         -0.8128      0.089     -9.179      0.000      -0.986      -0.639\n",
       "sigma2        15.9600      0.149    106.888      0.000      15.667      16.253\n",
       "===================================================================================\n",
       "Ljung-Box (L1) (Q):                   0.00   Jarque-Bera (JB):             13497.06\n",
       "Prob(Q):                              0.98   Prob(JB):                         0.00\n",
       "Heteroskedasticity (H):               1.19   Skew:                             0.91\n",
       "Prob(H) (two-sided):                  0.00   Kurtosis:                        10.12\n",
       "===================================================================================\n",
       "\n",
       "Warnings:\n",
       "[1] Covariance matrix calculated using the outer product of gradients (complex-step).\n",
       "\"\"\""
      ]
     },
     "execution_count": 29,
     "metadata": {},
     "output_type": "execute_result"
    }
   ],
   "source": [
    "m21 = ARIMA(df['C6H6(GT)'][0:6000],order = (3,1,2))\n",
    "m2 = m21.fit()\n",
    "m2.summary()"
   ]
  },
  {
   "cell_type": "code",
   "execution_count": 30,
   "id": "381f0486",
   "metadata": {},
   "outputs": [
    {
     "data": {
      "text/plain": [
       "2004-11-15 18:00:00    11.347165\n",
       "2004-11-15 19:00:00     9.974973\n",
       "2004-11-15 20:00:00     8.707713\n",
       "2004-11-15 21:00:00     7.723563\n",
       "2004-11-15 22:00:00     7.147025\n",
       "2004-11-15 23:00:00     6.789961\n",
       "2004-11-16 00:00:00     6.633176\n",
       "2004-11-16 01:00:00     6.543153\n",
       "2004-11-16 02:00:00     6.523175\n",
       "2004-11-16 03:00:00     6.507672\n",
       "Freq: H, Name: predicted_mean, dtype: float64"
      ]
     },
     "execution_count": 30,
     "metadata": {},
     "output_type": "execute_result"
    }
   ],
   "source": [
    "m2.forecast(10)"
   ]
  },
  {
   "cell_type": "code",
   "execution_count": 31,
   "id": "43f9182f",
   "metadata": {},
   "outputs": [
    {
     "data": {
      "text/plain": [
       "2004-11-15 18:00:00    1091.065946\n",
       "2004-11-15 19:00:00    1052.979558\n",
       "2004-11-15 20:00:00    1017.725565\n",
       "2004-11-15 21:00:00     989.873569\n",
       "2004-11-15 22:00:00     973.275738\n",
       "2004-11-15 23:00:00     962.526533\n",
       "2004-11-16 00:00:00     957.806614\n",
       "2004-11-16 01:00:00     955.096536\n",
       "2004-11-16 02:00:00     954.495109\n",
       "2004-11-16 03:00:00     954.028378\n",
       "Freq: H, Name: predicted_mean, dtype: float64"
      ]
     },
     "execution_count": 31,
     "metadata": {},
     "output_type": "execute_result"
    }
   ],
   "source": [
    "y = regr.intercept_[0] +regr.coef_[0][0]*m1.forecast(10)+regr.coef_[0][1]*m2.forecast(10)\n",
    "y"
   ]
  },
  {
   "cell_type": "code",
   "execution_count": 32,
   "id": "f615a9cb",
   "metadata": {},
   "outputs": [
    {
     "data": {
      "text/html": [
       "<div>\n",
       "<style scoped>\n",
       "    .dataframe tbody tr th:only-of-type {\n",
       "        vertical-align: middle;\n",
       "    }\n",
       "\n",
       "    .dataframe tbody tr th {\n",
       "        vertical-align: top;\n",
       "    }\n",
       "\n",
       "    .dataframe thead th {\n",
       "        text-align: right;\n",
       "    }\n",
       "</style>\n",
       "<table border=\"1\" class=\"dataframe\">\n",
       "  <thead>\n",
       "    <tr style=\"text-align: right;\">\n",
       "      <th></th>\n",
       "      <th>PT08.S1(CO)</th>\n",
       "    </tr>\n",
       "  </thead>\n",
       "  <tbody>\n",
       "    <tr>\n",
       "      <th>2004-11-15 18:00:00</th>\n",
       "      <td>1025.0</td>\n",
       "    </tr>\n",
       "    <tr>\n",
       "      <th>2004-11-15 19:00:00</th>\n",
       "      <td>1029.0</td>\n",
       "    </tr>\n",
       "    <tr>\n",
       "      <th>2004-11-15 20:00:00</th>\n",
       "      <td>1038.0</td>\n",
       "    </tr>\n",
       "    <tr>\n",
       "      <th>2004-11-15 21:00:00</th>\n",
       "      <td>904.0</td>\n",
       "    </tr>\n",
       "    <tr>\n",
       "      <th>2004-11-15 22:00:00</th>\n",
       "      <td>844.0</td>\n",
       "    </tr>\n",
       "    <tr>\n",
       "      <th>2004-11-15 23:00:00</th>\n",
       "      <td>839.0</td>\n",
       "    </tr>\n",
       "    <tr>\n",
       "      <th>2004-11-16 00:00:00</th>\n",
       "      <td>844.0</td>\n",
       "    </tr>\n",
       "    <tr>\n",
       "      <th>2004-11-16 01:00:00</th>\n",
       "      <td>800.0</td>\n",
       "    </tr>\n",
       "    <tr>\n",
       "      <th>2004-11-16 02:00:00</th>\n",
       "      <td>786.0</td>\n",
       "    </tr>\n",
       "    <tr>\n",
       "      <th>2004-11-16 03:00:00</th>\n",
       "      <td>737.0</td>\n",
       "    </tr>\n",
       "  </tbody>\n",
       "</table>\n",
       "</div>"
      ],
      "text/plain": [
       "                     PT08.S1(CO)\n",
       "2004-11-15 18:00:00       1025.0\n",
       "2004-11-15 19:00:00       1029.0\n",
       "2004-11-15 20:00:00       1038.0\n",
       "2004-11-15 21:00:00        904.0\n",
       "2004-11-15 22:00:00        844.0\n",
       "2004-11-15 23:00:00        839.0\n",
       "2004-11-16 00:00:00        844.0\n",
       "2004-11-16 01:00:00        800.0\n",
       "2004-11-16 02:00:00        786.0\n",
       "2004-11-16 03:00:00        737.0"
      ]
     },
     "execution_count": 32,
     "metadata": {},
     "output_type": "execute_result"
    }
   ],
   "source": [
    "y_test.head(10)"
   ]
  },
  {
   "cell_type": "code",
   "execution_count": 33,
   "id": "324c84db",
   "metadata": {},
   "outputs": [
    {
     "data": {
      "text/plain": [
       "ARIMA(order=(4, 1, 2), scoring_args={}, suppress_warnings=True,\n",
       "      with_intercept=False)"
      ]
     },
     "execution_count": 33,
     "metadata": {},
     "output_type": "execute_result"
    }
   ],
   "source": [
    "m31 = auto_arima(df['PT08.S1(CO)'][0:6000])\n",
    "m31"
   ]
  },
  {
   "cell_type": "code",
   "execution_count": 34,
   "id": "5f982f5f",
   "metadata": {},
   "outputs": [
    {
     "name": "stderr",
     "output_type": "stream",
     "text": [
      "C:\\Users\\dreddy86\\Anaconda3\\lib\\site-packages\\statsmodels\\tsa\\base\\tsa_model.py:471: ValueWarning: No frequency information was provided, so inferred frequency H will be used.\n",
      "  self._init_dates(dates, freq)\n",
      "C:\\Users\\dreddy86\\Anaconda3\\lib\\site-packages\\statsmodels\\tsa\\base\\tsa_model.py:471: ValueWarning: No frequency information was provided, so inferred frequency H will be used.\n",
      "  self._init_dates(dates, freq)\n",
      "C:\\Users\\dreddy86\\Anaconda3\\lib\\site-packages\\statsmodels\\tsa\\base\\tsa_model.py:471: ValueWarning: No frequency information was provided, so inferred frequency H will be used.\n",
      "  self._init_dates(dates, freq)\n"
     ]
    },
    {
     "data": {
      "text/html": [
       "<table class=\"simpletable\">\n",
       "<caption>SARIMAX Results</caption>\n",
       "<tr>\n",
       "  <th>Dep. Variable:</th>      <td>PT08.S1(CO)</td>   <th>  No. Observations:  </th>    <td>6000</td>   \n",
       "</tr>\n",
       "<tr>\n",
       "  <th>Model:</th>            <td>ARIMA(4, 1, 2)</td>  <th>  Log Likelihood     </th> <td>-37147.337</td>\n",
       "</tr>\n",
       "<tr>\n",
       "  <th>Date:</th>            <td>Fri, 14 Oct 2022</td> <th>  AIC                </th>  <td>74308.673</td>\n",
       "</tr>\n",
       "<tr>\n",
       "  <th>Time:</th>                <td>15:23:52</td>     <th>  BIC                </th>  <td>74355.569</td>\n",
       "</tr>\n",
       "<tr>\n",
       "  <th>Sample:</th>             <td>03-10-2004</td>    <th>  HQIC               </th>  <td>74324.959</td>\n",
       "</tr>\n",
       "<tr>\n",
       "  <th></th>                   <td>- 11-15-2004</td>   <th>                     </th>      <td> </td>    \n",
       "</tr>\n",
       "<tr>\n",
       "  <th>Covariance Type:</th>        <td>opg</td>       <th>                     </th>      <td> </td>    \n",
       "</tr>\n",
       "</table>\n",
       "<table class=\"simpletable\">\n",
       "<tr>\n",
       "     <td></td>       <th>coef</th>     <th>std err</th>      <th>z</th>      <th>P>|z|</th>  <th>[0.025</th>    <th>0.975]</th>  \n",
       "</tr>\n",
       "<tr>\n",
       "  <th>ar.L1</th>  <td>    0.1888</td> <td>    0.077</td> <td>    2.447</td> <td> 0.014</td> <td>    0.038</td> <td>    0.340</td>\n",
       "</tr>\n",
       "<tr>\n",
       "  <th>ar.L2</th>  <td>    0.6298</td> <td>    0.080</td> <td>    7.903</td> <td> 0.000</td> <td>    0.474</td> <td>    0.786</td>\n",
       "</tr>\n",
       "<tr>\n",
       "  <th>ar.L3</th>  <td>   -0.1850</td> <td>    0.020</td> <td>   -9.130</td> <td> 0.000</td> <td>   -0.225</td> <td>   -0.145</td>\n",
       "</tr>\n",
       "<tr>\n",
       "  <th>ar.L4</th>  <td>   -0.0709</td> <td>    0.011</td> <td>   -6.210</td> <td> 0.000</td> <td>   -0.093</td> <td>   -0.049</td>\n",
       "</tr>\n",
       "<tr>\n",
       "  <th>ma.L1</th>  <td>   -0.1306</td> <td>    0.078</td> <td>   -1.669</td> <td> 0.095</td> <td>   -0.284</td> <td>    0.023</td>\n",
       "</tr>\n",
       "<tr>\n",
       "  <th>ma.L2</th>  <td>   -0.7719</td> <td>    0.073</td> <td>  -10.538</td> <td> 0.000</td> <td>   -0.916</td> <td>   -0.628</td>\n",
       "</tr>\n",
       "<tr>\n",
       "  <th>sigma2</th> <td>   1.4e+04</td> <td>   89.217</td> <td>  156.881</td> <td> 0.000</td> <td> 1.38e+04</td> <td> 1.42e+04</td>\n",
       "</tr>\n",
       "</table>\n",
       "<table class=\"simpletable\">\n",
       "<tr>\n",
       "  <th>Ljung-Box (L1) (Q):</th>     <td>0.00</td> <th>  Jarque-Bera (JB):  </th> <td>226385.45</td>\n",
       "</tr>\n",
       "<tr>\n",
       "  <th>Prob(Q):</th>                <td>0.95</td> <th>  Prob(JB):          </th>   <td>0.00</td>   \n",
       "</tr>\n",
       "<tr>\n",
       "  <th>Heteroskedasticity (H):</th> <td>0.92</td> <th>  Skew:              </th>   <td>0.14</td>   \n",
       "</tr>\n",
       "<tr>\n",
       "  <th>Prob(H) (two-sided):</th>    <td>0.06</td> <th>  Kurtosis:          </th>   <td>33.09</td>  \n",
       "</tr>\n",
       "</table><br/><br/>Warnings:<br/>[1] Covariance matrix calculated using the outer product of gradients (complex-step)."
      ],
      "text/plain": [
       "<class 'statsmodels.iolib.summary.Summary'>\n",
       "\"\"\"\n",
       "                               SARIMAX Results                                \n",
       "==============================================================================\n",
       "Dep. Variable:            PT08.S1(CO)   No. Observations:                 6000\n",
       "Model:                 ARIMA(4, 1, 2)   Log Likelihood              -37147.337\n",
       "Date:                Fri, 14 Oct 2022   AIC                          74308.673\n",
       "Time:                        15:23:52   BIC                          74355.569\n",
       "Sample:                    03-10-2004   HQIC                         74324.959\n",
       "                         - 11-15-2004                                         \n",
       "Covariance Type:                  opg                                         \n",
       "==============================================================================\n",
       "                 coef    std err          z      P>|z|      [0.025      0.975]\n",
       "------------------------------------------------------------------------------\n",
       "ar.L1          0.1888      0.077      2.447      0.014       0.038       0.340\n",
       "ar.L2          0.6298      0.080      7.903      0.000       0.474       0.786\n",
       "ar.L3         -0.1850      0.020     -9.130      0.000      -0.225      -0.145\n",
       "ar.L4         -0.0709      0.011     -6.210      0.000      -0.093      -0.049\n",
       "ma.L1         -0.1306      0.078     -1.669      0.095      -0.284       0.023\n",
       "ma.L2         -0.7719      0.073    -10.538      0.000      -0.916      -0.628\n",
       "sigma2        1.4e+04     89.217    156.881      0.000    1.38e+04    1.42e+04\n",
       "===================================================================================\n",
       "Ljung-Box (L1) (Q):                   0.00   Jarque-Bera (JB):            226385.45\n",
       "Prob(Q):                              0.95   Prob(JB):                         0.00\n",
       "Heteroskedasticity (H):               0.92   Skew:                             0.14\n",
       "Prob(H) (two-sided):                  0.06   Kurtosis:                        33.09\n",
       "===================================================================================\n",
       "\n",
       "Warnings:\n",
       "[1] Covariance matrix calculated using the outer product of gradients (complex-step).\n",
       "\"\"\""
      ]
     },
     "execution_count": 34,
     "metadata": {},
     "output_type": "execute_result"
    }
   ],
   "source": [
    "m31 = ARIMA(df['PT08.S1(CO)'][0:6000],order = (4,1,2))\n",
    "m3 = m31.fit()\n",
    "m3.summary()"
   ]
  },
  {
   "cell_type": "code",
   "execution_count": 35,
   "id": "71e07c4d",
   "metadata": {},
   "outputs": [
    {
     "data": {
      "text/plain": [
       "2004-11-15 18:00:00    920.201673\n",
       "2004-11-15 19:00:00    901.515050\n",
       "2004-11-15 20:00:00    881.732650\n",
       "2004-11-15 21:00:00    865.391177\n",
       "2004-11-15 22:00:00    854.069050\n",
       "2004-11-15 23:00:00    846.623433\n",
       "2004-11-16 00:00:00    842.512005\n",
       "2004-11-16 01:00:00    840.299151\n",
       "2004-11-16 02:00:00    839.471755\n",
       "2004-11-16 03:00:00    839.210155\n",
       "Freq: H, Name: predicted_mean, dtype: float64"
      ]
     },
     "execution_count": 35,
     "metadata": {},
     "output_type": "execute_result"
    }
   ],
   "source": [
    "m3.forecast(10)"
   ]
  },
  {
   "cell_type": "code",
   "execution_count": 37,
   "id": "776f85f9",
   "metadata": {},
   "outputs": [],
   "source": [
    "#scaled_data = StandardScaler().fit_transform(X = df['CO(GT)'].values.reshape(-1,1))\n",
    "df['CO(GT)_s'] = (df['CO(GT)']-np.mean(df['CO(GT)']))/(np.var(df['CO(GT)']))**1/2\n",
    "df['C6H6(GT)_s']= (df['C6H6(GT)']-np.mean(df['C6H6(GT)']))/(np.var(df['C6H6(GT)']))**1/2\n",
    "df['PT08.S1(CO)_s'] = (df['PT08.S1(CO)']-np.mean(df['PT08.S1(CO)']))/(np.var(df['PT08.S1(CO)']))**1/2"
   ]
  },
  {
   "cell_type": "code",
   "execution_count": 40,
   "id": "f91746a9",
   "metadata": {},
   "outputs": [
    {
     "data": {
      "text/plain": [
       "ARIMA(order=(3, 1, 2), scoring_args={}, suppress_warnings=True,\n",
       "      with_intercept=False)"
      ]
     },
     "execution_count": 40,
     "metadata": {},
     "output_type": "execute_result"
    }
   ],
   "source": [
    "m51 = auto_arima(df['C6H6(GT)_s'][0:6000])\n",
    "m51\n"
   ]
  },
  {
   "cell_type": "code",
   "execution_count": 41,
   "id": "5bb56376",
   "metadata": {},
   "outputs": [
    {
     "name": "stderr",
     "output_type": "stream",
     "text": [
      "C:\\Users\\dreddy86\\Anaconda3\\lib\\site-packages\\statsmodels\\tsa\\base\\tsa_model.py:471: ValueWarning: No frequency information was provided, so inferred frequency H will be used.\n",
      "  self._init_dates(dates, freq)\n",
      "C:\\Users\\dreddy86\\Anaconda3\\lib\\site-packages\\statsmodels\\tsa\\base\\tsa_model.py:471: ValueWarning: No frequency information was provided, so inferred frequency H will be used.\n",
      "  self._init_dates(dates, freq)\n",
      "C:\\Users\\dreddy86\\Anaconda3\\lib\\site-packages\\statsmodels\\tsa\\base\\tsa_model.py:471: ValueWarning: No frequency information was provided, so inferred frequency H will be used.\n",
      "  self._init_dates(dates, freq)\n"
     ]
    },
    {
     "data": {
      "text/html": [
       "<table class=\"simpletable\">\n",
       "<caption>SARIMAX Results</caption>\n",
       "<tr>\n",
       "  <th>Dep. Variable:</th>      <td>C6H6(GT)_s</td>    <th>  No. Observations:  </th>    <td>6000</td>   \n",
       "</tr>\n",
       "<tr>\n",
       "  <th>Model:</th>            <td>ARIMA(3, 1, 2)</td>  <th>  Log Likelihood     </th>  <td>11450.299</td>\n",
       "</tr>\n",
       "<tr>\n",
       "  <th>Date:</th>            <td>Fri, 14 Oct 2022</td> <th>  AIC                </th> <td>-22888.598</td>\n",
       "</tr>\n",
       "<tr>\n",
       "  <th>Time:</th>                <td>15:25:58</td>     <th>  BIC                </th> <td>-22848.402</td>\n",
       "</tr>\n",
       "<tr>\n",
       "  <th>Sample:</th>             <td>03-10-2004</td>    <th>  HQIC               </th> <td>-22874.639</td>\n",
       "</tr>\n",
       "<tr>\n",
       "  <th></th>                   <td>- 11-15-2004</td>   <th>                     </th>      <td> </td>    \n",
       "</tr>\n",
       "<tr>\n",
       "  <th>Covariance Type:</th>        <td>opg</td>       <th>                     </th>      <td> </td>    \n",
       "</tr>\n",
       "</table>\n",
       "<table class=\"simpletable\">\n",
       "<tr>\n",
       "     <td></td>       <th>coef</th>     <th>std err</th>      <th>z</th>      <th>P>|z|</th>  <th>[0.025</th>    <th>0.975]</th>  \n",
       "</tr>\n",
       "<tr>\n",
       "  <th>ar.L1</th>  <td>    0.1885</td> <td>    0.076</td> <td>    2.492</td> <td> 0.013</td> <td>    0.040</td> <td>    0.337</td>\n",
       "</tr>\n",
       "<tr>\n",
       "  <th>ar.L2</th>  <td>    0.5739</td> <td>    0.082</td> <td>    6.972</td> <td> 0.000</td> <td>    0.413</td> <td>    0.735</td>\n",
       "</tr>\n",
       "<tr>\n",
       "  <th>ar.L3</th>  <td>   -0.2515</td> <td>    0.032</td> <td>   -7.890</td> <td> 0.000</td> <td>   -0.314</td> <td>   -0.189</td>\n",
       "</tr>\n",
       "<tr>\n",
       "  <th>ma.L1</th>  <td>   -0.1156</td> <td>    0.075</td> <td>   -1.547</td> <td> 0.122</td> <td>   -0.262</td> <td>    0.031</td>\n",
       "</tr>\n",
       "<tr>\n",
       "  <th>ma.L2</th>  <td>   -0.8505</td> <td>    0.073</td> <td>  -11.655</td> <td> 0.000</td> <td>   -0.994</td> <td>   -0.707</td>\n",
       "</tr>\n",
       "<tr>\n",
       "  <th>sigma2</th> <td>    0.0013</td> <td>  1.2e-05</td> <td>  106.810</td> <td> 0.000</td> <td>    0.001</td> <td>    0.001</td>\n",
       "</tr>\n",
       "</table>\n",
       "<table class=\"simpletable\">\n",
       "<tr>\n",
       "  <th>Ljung-Box (L1) (Q):</th>     <td>0.01</td> <th>  Jarque-Bera (JB):  </th> <td>13409.83</td>\n",
       "</tr>\n",
       "<tr>\n",
       "  <th>Prob(Q):</th>                <td>0.93</td> <th>  Prob(JB):          </th>   <td>0.00</td>  \n",
       "</tr>\n",
       "<tr>\n",
       "  <th>Heteroskedasticity (H):</th> <td>1.19</td> <th>  Skew:              </th>   <td>0.91</td>  \n",
       "</tr>\n",
       "<tr>\n",
       "  <th>Prob(H) (two-sided):</th>    <td>0.00</td> <th>  Kurtosis:          </th>   <td>10.10</td> \n",
       "</tr>\n",
       "</table><br/><br/>Warnings:<br/>[1] Covariance matrix calculated using the outer product of gradients (complex-step)."
      ],
      "text/plain": [
       "<class 'statsmodels.iolib.summary.Summary'>\n",
       "\"\"\"\n",
       "                               SARIMAX Results                                \n",
       "==============================================================================\n",
       "Dep. Variable:             C6H6(GT)_s   No. Observations:                 6000\n",
       "Model:                 ARIMA(3, 1, 2)   Log Likelihood               11450.299\n",
       "Date:                Fri, 14 Oct 2022   AIC                         -22888.598\n",
       "Time:                        15:25:58   BIC                         -22848.402\n",
       "Sample:                    03-10-2004   HQIC                        -22874.639\n",
       "                         - 11-15-2004                                         \n",
       "Covariance Type:                  opg                                         \n",
       "==============================================================================\n",
       "                 coef    std err          z      P>|z|      [0.025      0.975]\n",
       "------------------------------------------------------------------------------\n",
       "ar.L1          0.1885      0.076      2.492      0.013       0.040       0.337\n",
       "ar.L2          0.5739      0.082      6.972      0.000       0.413       0.735\n",
       "ar.L3         -0.2515      0.032     -7.890      0.000      -0.314      -0.189\n",
       "ma.L1         -0.1156      0.075     -1.547      0.122      -0.262       0.031\n",
       "ma.L2         -0.8505      0.073    -11.655      0.000      -0.994      -0.707\n",
       "sigma2         0.0013    1.2e-05    106.810      0.000       0.001       0.001\n",
       "===================================================================================\n",
       "Ljung-Box (L1) (Q):                   0.01   Jarque-Bera (JB):             13409.83\n",
       "Prob(Q):                              0.93   Prob(JB):                         0.00\n",
       "Heteroskedasticity (H):               1.19   Skew:                             0.91\n",
       "Prob(H) (two-sided):                  0.00   Kurtosis:                        10.10\n",
       "===================================================================================\n",
       "\n",
       "Warnings:\n",
       "[1] Covariance matrix calculated using the outer product of gradients (complex-step).\n",
       "\"\"\""
      ]
     },
     "execution_count": 41,
     "metadata": {},
     "output_type": "execute_result"
    }
   ],
   "source": [
    "m51 = ARIMA(df['C6H6(GT)_s'][0:6000],order = (3,1,2))\n",
    "m5 = m51.fit()\n",
    "m5.summary()"
   ]
  },
  {
   "cell_type": "code",
   "execution_count": 42,
   "id": "f3e4bec7",
   "metadata": {},
   "outputs": [
    {
     "data": {
      "text/plain": [
       "ARIMA(order=(3, 1, 4), scoring_args={}, suppress_warnings=True)"
      ]
     },
     "execution_count": 42,
     "metadata": {},
     "output_type": "execute_result"
    }
   ],
   "source": [
    "m41 = auto_arima(df['CO(GT)_s'][0:6000])\n",
    "m41"
   ]
  },
  {
   "cell_type": "code",
   "execution_count": 43,
   "id": "e331aa76",
   "metadata": {},
   "outputs": [
    {
     "name": "stderr",
     "output_type": "stream",
     "text": [
      "C:\\Users\\dreddy86\\Anaconda3\\lib\\site-packages\\statsmodels\\tsa\\base\\tsa_model.py:471: ValueWarning: No frequency information was provided, so inferred frequency H will be used.\n",
      "  self._init_dates(dates, freq)\n",
      "C:\\Users\\dreddy86\\Anaconda3\\lib\\site-packages\\statsmodels\\tsa\\base\\tsa_model.py:471: ValueWarning: No frequency information was provided, so inferred frequency H will be used.\n",
      "  self._init_dates(dates, freq)\n",
      "C:\\Users\\dreddy86\\Anaconda3\\lib\\site-packages\\statsmodels\\tsa\\base\\tsa_model.py:471: ValueWarning: No frequency information was provided, so inferred frequency H will be used.\n",
      "  self._init_dates(dates, freq)\n"
     ]
    },
    {
     "data": {
      "text/html": [
       "<table class=\"simpletable\">\n",
       "<caption>SARIMAX Results</caption>\n",
       "<tr>\n",
       "  <th>Dep. Variable:</th>       <td>CO(GT)_s</td>     <th>  No. Observations:  </th>   <td>6000</td>   \n",
       "</tr>\n",
       "<tr>\n",
       "  <th>Model:</th>            <td>ARIMA(2, 1, 2)</td>  <th>  Log Likelihood     </th> <td>1013.399</td> \n",
       "</tr>\n",
       "<tr>\n",
       "  <th>Date:</th>            <td>Fri, 14 Oct 2022</td> <th>  AIC                </th> <td>-2016.799</td>\n",
       "</tr>\n",
       "<tr>\n",
       "  <th>Time:</th>                <td>15:28:09</td>     <th>  BIC                </th> <td>-1983.302</td>\n",
       "</tr>\n",
       "<tr>\n",
       "  <th>Sample:</th>             <td>03-10-2004</td>    <th>  HQIC               </th> <td>-2005.166</td>\n",
       "</tr>\n",
       "<tr>\n",
       "  <th></th>                   <td>- 11-15-2004</td>   <th>                     </th>     <td> </td>    \n",
       "</tr>\n",
       "<tr>\n",
       "  <th>Covariance Type:</th>        <td>opg</td>       <th>                     </th>     <td> </td>    \n",
       "</tr>\n",
       "</table>\n",
       "<table class=\"simpletable\">\n",
       "<tr>\n",
       "     <td></td>       <th>coef</th>     <th>std err</th>      <th>z</th>      <th>P>|z|</th>  <th>[0.025</th>    <th>0.975]</th>  \n",
       "</tr>\n",
       "<tr>\n",
       "  <th>ar.L1</th>  <td>    0.8640</td> <td>    0.049</td> <td>   17.622</td> <td> 0.000</td> <td>    0.768</td> <td>    0.960</td>\n",
       "</tr>\n",
       "<tr>\n",
       "  <th>ar.L2</th>  <td>   -0.1648</td> <td>    0.039</td> <td>   -4.179</td> <td> 0.000</td> <td>   -0.242</td> <td>   -0.087</td>\n",
       "</tr>\n",
       "<tr>\n",
       "  <th>ma.L1</th>  <td>   -0.9242</td> <td>    0.051</td> <td>  -18.256</td> <td> 0.000</td> <td>   -1.023</td> <td>   -0.825</td>\n",
       "</tr>\n",
       "<tr>\n",
       "  <th>ma.L2</th>  <td>   -0.0684</td> <td>    0.051</td> <td>   -1.353</td> <td> 0.176</td> <td>   -0.167</td> <td>    0.031</td>\n",
       "</tr>\n",
       "<tr>\n",
       "  <th>sigma2</th> <td>    0.0417</td> <td>    0.000</td> <td>  105.455</td> <td> 0.000</td> <td>    0.041</td> <td>    0.043</td>\n",
       "</tr>\n",
       "</table>\n",
       "<table class=\"simpletable\">\n",
       "<tr>\n",
       "  <th>Ljung-Box (L1) (Q):</th>     <td>0.00</td> <th>  Jarque-Bera (JB):  </th> <td>8549.94</td>\n",
       "</tr>\n",
       "<tr>\n",
       "  <th>Prob(Q):</th>                <td>1.00</td> <th>  Prob(JB):          </th>  <td>0.00</td>  \n",
       "</tr>\n",
       "<tr>\n",
       "  <th>Heteroskedasticity (H):</th> <td>0.90</td> <th>  Skew:              </th>  <td>0.90</td>  \n",
       "</tr>\n",
       "<tr>\n",
       "  <th>Prob(H) (two-sided):</th>    <td>0.02</td> <th>  Kurtosis:          </th>  <td>8.57</td>  \n",
       "</tr>\n",
       "</table><br/><br/>Warnings:<br/>[1] Covariance matrix calculated using the outer product of gradients (complex-step)."
      ],
      "text/plain": [
       "<class 'statsmodels.iolib.summary.Summary'>\n",
       "\"\"\"\n",
       "                               SARIMAX Results                                \n",
       "==============================================================================\n",
       "Dep. Variable:               CO(GT)_s   No. Observations:                 6000\n",
       "Model:                 ARIMA(2, 1, 2)   Log Likelihood                1013.399\n",
       "Date:                Fri, 14 Oct 2022   AIC                          -2016.799\n",
       "Time:                        15:28:09   BIC                          -1983.302\n",
       "Sample:                    03-10-2004   HQIC                         -2005.166\n",
       "                         - 11-15-2004                                         \n",
       "Covariance Type:                  opg                                         \n",
       "==============================================================================\n",
       "                 coef    std err          z      P>|z|      [0.025      0.975]\n",
       "------------------------------------------------------------------------------\n",
       "ar.L1          0.8640      0.049     17.622      0.000       0.768       0.960\n",
       "ar.L2         -0.1648      0.039     -4.179      0.000      -0.242      -0.087\n",
       "ma.L1         -0.9242      0.051    -18.256      0.000      -1.023      -0.825\n",
       "ma.L2         -0.0684      0.051     -1.353      0.176      -0.167       0.031\n",
       "sigma2         0.0417      0.000    105.455      0.000       0.041       0.043\n",
       "===================================================================================\n",
       "Ljung-Box (L1) (Q):                   0.00   Jarque-Bera (JB):              8549.94\n",
       "Prob(Q):                              1.00   Prob(JB):                         0.00\n",
       "Heteroskedasticity (H):               0.90   Skew:                             0.90\n",
       "Prob(H) (two-sided):                  0.02   Kurtosis:                         8.57\n",
       "===================================================================================\n",
       "\n",
       "Warnings:\n",
       "[1] Covariance matrix calculated using the outer product of gradients (complex-step).\n",
       "\"\"\""
      ]
     },
     "execution_count": 43,
     "metadata": {},
     "output_type": "execute_result"
    }
   ],
   "source": [
    "m41 = ARIMA(df['CO(GT)_s'][0:6000],order = (2,1,2))\n",
    "m4 = m41.fit()\n",
    "m4.summary()"
   ]
  },
  {
   "cell_type": "code",
   "execution_count": 93,
   "id": "3619f655",
   "metadata": {},
   "outputs": [],
   "source": [
    "#df"
   ]
  },
  {
   "cell_type": "code",
   "execution_count": 45,
   "id": "d8d9f864",
   "metadata": {},
   "outputs": [
    {
     "data": {
      "text/plain": [
       "LinearRegression()"
      ]
     },
     "execution_count": 45,
     "metadata": {},
     "output_type": "execute_result"
    }
   ],
   "source": [
    "x_train_s = df.iloc[0:6000,[-2,-3]]\n",
    "y_train_s = df.iloc[0:6000,[-1]]\n",
    "x_test_s = df.iloc[6000:,[-2,-3]]\n",
    "y_test_s = df.iloc[6000:,[-1]]\n",
    "regr_s = LinearRegression()\n",
    "regr_s.fit(x_train_s,y_train_s)"
   ]
  },
  {
   "cell_type": "code",
   "execution_count": 46,
   "id": "243f2bb5",
   "metadata": {},
   "outputs": [
    {
     "data": {
      "text/plain": [
       "2004-11-15 18:00:00    0.002433\n",
       "2004-11-15 19:00:00    0.001430\n",
       "2004-11-15 20:00:00    0.000546\n",
       "2004-11-15 21:00:00   -0.000052\n",
       "2004-11-15 22:00:00   -0.000423\n",
       "2004-11-15 23:00:00   -0.000645\n",
       "2004-11-16 00:00:00   -0.000776\n",
       "2004-11-16 01:00:00   -0.000853\n",
       "2004-11-16 02:00:00   -0.000897\n",
       "2004-11-16 03:00:00   -0.000923\n",
       "Freq: H, Name: predicted_mean, dtype: float64"
      ]
     },
     "execution_count": 46,
     "metadata": {},
     "output_type": "execute_result"
    }
   ],
   "source": [
    "y_s = regr_s.intercept_[0] +regr_s.coef_[0][0]*m4.forecast(10)+regr_s.coef_[0][1]*m5.forecast(10)\n",
    "y_s"
   ]
  },
  {
   "cell_type": "code",
   "execution_count": 47,
   "id": "68952d7e",
   "metadata": {},
   "outputs": [
    {
     "data": {
      "text/html": [
       "<div>\n",
       "<style scoped>\n",
       "    .dataframe tbody tr th:only-of-type {\n",
       "        vertical-align: middle;\n",
       "    }\n",
       "\n",
       "    .dataframe tbody tr th {\n",
       "        vertical-align: top;\n",
       "    }\n",
       "\n",
       "    .dataframe thead th {\n",
       "        text-align: right;\n",
       "    }\n",
       "</style>\n",
       "<table border=\"1\" class=\"dataframe\">\n",
       "  <thead>\n",
       "    <tr style=\"text-align: right;\">\n",
       "      <th></th>\n",
       "      <th>PT08.S1(CO)_s</th>\n",
       "    </tr>\n",
       "  </thead>\n",
       "  <tbody>\n",
       "    <tr>\n",
       "      <th>2004-11-15 18:00:00</th>\n",
       "      <td>-0.000176</td>\n",
       "    </tr>\n",
       "    <tr>\n",
       "      <th>2004-11-15 19:00:00</th>\n",
       "      <td>-0.000154</td>\n",
       "    </tr>\n",
       "    <tr>\n",
       "      <th>2004-11-15 20:00:00</th>\n",
       "      <td>-0.000104</td>\n",
       "    </tr>\n",
       "    <tr>\n",
       "      <th>2004-11-15 21:00:00</th>\n",
       "      <td>-0.000844</td>\n",
       "    </tr>\n",
       "    <tr>\n",
       "      <th>2004-11-15 22:00:00</th>\n",
       "      <td>-0.001175</td>\n",
       "    </tr>\n",
       "    <tr>\n",
       "      <th>2004-11-15 23:00:00</th>\n",
       "      <td>-0.001203</td>\n",
       "    </tr>\n",
       "    <tr>\n",
       "      <th>2004-11-16 00:00:00</th>\n",
       "      <td>-0.001175</td>\n",
       "    </tr>\n",
       "    <tr>\n",
       "      <th>2004-11-16 01:00:00</th>\n",
       "      <td>-0.001418</td>\n",
       "    </tr>\n",
       "    <tr>\n",
       "      <th>2004-11-16 02:00:00</th>\n",
       "      <td>-0.001496</td>\n",
       "    </tr>\n",
       "    <tr>\n",
       "      <th>2004-11-16 03:00:00</th>\n",
       "      <td>-0.001766</td>\n",
       "    </tr>\n",
       "  </tbody>\n",
       "</table>\n",
       "</div>"
      ],
      "text/plain": [
       "                     PT08.S1(CO)_s\n",
       "2004-11-15 18:00:00      -0.000176\n",
       "2004-11-15 19:00:00      -0.000154\n",
       "2004-11-15 20:00:00      -0.000104\n",
       "2004-11-15 21:00:00      -0.000844\n",
       "2004-11-15 22:00:00      -0.001175\n",
       "2004-11-15 23:00:00      -0.001203\n",
       "2004-11-16 00:00:00      -0.001175\n",
       "2004-11-16 01:00:00      -0.001418\n",
       "2004-11-16 02:00:00      -0.001496\n",
       "2004-11-16 03:00:00      -0.001766"
      ]
     },
     "execution_count": 47,
     "metadata": {},
     "output_type": "execute_result"
    }
   ],
   "source": [
    "y_test_s.head(10)"
   ]
  },
  {
   "cell_type": "code",
   "execution_count": 57,
   "id": "86d33478",
   "metadata": {},
   "outputs": [
    {
     "data": {
      "text/plain": [
       "<matplotlib.legend.Legend at 0x1b48683d340>"
      ]
     },
     "execution_count": 57,
     "metadata": {},
     "output_type": "execute_result"
    },
    {
     "data": {
      "image/png": "[encoded data removed]",
      "text/plain": [
       "<Figure size 1152x360 with 1 Axes>"
      ]
     },
     "metadata": {
      "needs_background": "light"
     },
     "output_type": "display_data"
    }
   ],
   "source": [
    "plt.figure(figsize=(16,5))\n",
    "plt.plot(m1.forecast(20),label = 'forecast of CO(GT)')\n",
    "#plt.legend('forecast of CO(GT)')\n",
    "plt.plot(x_test['CO(GT)'][0:20],label = 'real test value of CO(GT)')\n",
    "plt.legend()\n",
    "#plt.legend('Real CO(GT) test values')"
   ]
  },
  {
   "cell_type": "code",
   "execution_count": 59,
   "id": "408a77ae",
   "metadata": {},
   "outputs": [
    {
     "data": {
      "text/plain": [
       "<matplotlib.legend.Legend at 0x1b485d96760>"
      ]
     },
     "execution_count": 59,
     "metadata": {},
     "output_type": "execute_result"
    },
    {
     "data": {
      "image/png": "[encoded data removed]",
      "text/plain": [
       "<Figure size 432x288 with 1 Axes>"
      ]
     },
     "metadata": {
      "needs_background": "light"
     },
     "output_type": "display_data"
    }
   ],
   "source": [
    "plt.plot(m2.forecast(20),label = 'forecast of C6H6(GT)')\n",
    "plt.plot(x_test['C6H6(GT)'][0:20],label = 'real test values of C6H6(GT)')\n",
    "plt.legend()"
   ]
  },
  {
   "cell_type": "code",
   "execution_count": 62,
   "id": "7f94ff8e",
   "metadata": {},
   "outputs": [
    {
     "data": {
      "text/plain": [
       "<matplotlib.legend.Legend at 0x1b4908bc460>"
      ]
     },
     "execution_count": 62,
     "metadata": {},
     "output_type": "execute_result"
    },
    {
     "data": {
      "image/png": "[encoded data removed]",
      "text/plain": [
       "<Figure size 1152x360 with 1 Axes>"
      ]
     },
     "metadata": {
      "needs_background": "light"
     },
     "output_type": "display_data"
    }
   ],
   "source": [
    "plt.figure(figsize=(16,5))\n",
    "plt.plot(m3.forecast(10),label = 'forecast of S1 values')\n",
    "plt.plot(y_test[0:10],label = 'real test values of S1')\n",
    "plt.plot(y,label = 'S1 values calculated from x forecast')\n",
    "plt.legend()"
   ]
  },
  {
   "cell_type": "code",
   "execution_count": 64,
   "id": "f9fbae11",
   "metadata": {},
   "outputs": [
    {
     "data": {
      "text/plain": [
       "<matplotlib.legend.Legend at 0x1b48739a2e0>"
      ]
     },
     "execution_count": 64,
     "metadata": {},
     "output_type": "execute_result"
    },
    {
     "data": {
      "image/png": "[encoded data removed]",
      "text/plain": [
       "<Figure size 432x288 with 1 Axes>"
      ]
     },
     "metadata": {
      "needs_background": "light"
     },
     "output_type": "display_data"
    }
   ],
   "source": [
    "plt.plot(m4.forecast(20),label = 'CO(GT) forecast after standardization')\n",
    "plt.plot(x_test_s['CO(GT)_s'][0:20], label = 'real standardized test values of CO(GT)')\n",
    "plt.legend()"
   ]
  },
  {
   "cell_type": "code",
   "execution_count": 65,
   "id": "dfa010b9",
   "metadata": {},
   "outputs": [
    {
     "data": {
      "text/plain": [
       "<matplotlib.legend.Legend at 0x1b4871e3130>"
      ]
     },
     "execution_count": 65,
     "metadata": {},
     "output_type": "execute_result"
    },
    {
     "data": {
      "image/png": "[encoded data removed]",
      "text/plain": [
       "<Figure size 432x288 with 1 Axes>"
      ]
     },
     "metadata": {
      "needs_background": "light"
     },
     "output_type": "display_data"
    }
   ],
   "source": [
    "plt.plot(m5.forecast(20),label = 'C6H6(GT) forecast after standardization')\n",
    "plt.plot(x_test_s['C6H6(GT)_s'][0:20],label = 'real standardized test values of C6H6(GT)')\n",
    "plt.legend()"
   ]
  },
  {
   "cell_type": "code",
   "execution_count": 66,
   "id": "2271f239",
   "metadata": {},
   "outputs": [
    {
     "data": {
      "text/plain": [
       "<matplotlib.legend.Legend at 0x1b487623190>"
      ]
     },
     "execution_count": 66,
     "metadata": {},
     "output_type": "execute_result"
    },
    {
     "data": {
      "image/png": "[encoded data removed]",
      "text/plain": [
       "<Figure size 432x288 with 1 Axes>"
      ]
     },
     "metadata": {
      "needs_background": "light"
     },
     "output_type": "display_data"
    }
   ],
   "source": [
    "plt.plot(y_s[0:10],label = 'Standardized S1 calculated values through LG')\n",
    "plt.plot(y_test_s[0:10], label = 'Standardized S1 real test values')\n",
    "plt.legend()"
   ]
  },
  {
   "cell_type": "markdown",
   "id": "caadf129",
   "metadata": {},
   "source": [
    "### Standardization is used to scale down the data because the data follows normal distributions (similar). But by observing the outputs, we got better predicts by using the original data itself. "
   ]
  }
 ],
 "metadata": {
  "kernelspec": {
   "display_name": "Python 3 (ipykernel)",
   "language": "python",
   "name": "python3"
  },
  "language_info": {
   "codemirror_mode": {
    "name": "ipython",
    "version": 3
   },
   "file_extension": ".py",
   "mimetype": "text/x-python",
   "name": "python",
   "nbconvert_exporter": "python",
   "pygments_lexer": "ipython3",
   "version": "3.7.0"
  }
 },
 "nbformat": 4,
 "nbformat_minor": 5
}
