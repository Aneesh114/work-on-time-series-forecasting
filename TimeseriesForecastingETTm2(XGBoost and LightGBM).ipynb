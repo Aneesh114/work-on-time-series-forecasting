{
 "cells": [
  {
   "cell_type": "code",
   "execution_count": 1,
   "metadata": {},
   "outputs": [
    {
     "name": "stderr",
     "output_type": "stream",
     "text": [
      "Importing plotly failed. Interactive plots will not work.\n"
     ]
    }
   ],
   "source": [
    "#import darts\n",
    "import pandas as pd\n",
    "import numpy as np\n",
    "#from darts import TimeSeries\n",
    "#from statsmodels.graphics.tsaplots import plot_acf,plot_pacf\n",
    "#from statsmodels.tsa.stattools import adfuller\n",
    "#from statsmodels.tsa.seasonal import seasonal_decompose\n",
    "#from statsmodels.tsa.stattools import kpss\n",
    "import matplotlib.pyplot as plt\n",
    "import seaborn as sns\n",
    "#from sklearn.preprocessing import LabelEncoder\n",
    "#from sklearn.metrics import mean_absolute_percentage_error as mape\n",
    "#from sklearn.metrics import mean_squared_error as mse\n",
    "from prophet import Prophet"
   ]
  },
  {
   "cell_type": "markdown",
   "metadata": {},
   "source": [
    "## Reading the data (ETTm2)"
   ]
  },
  {
   "cell_type": "code",
   "execution_count": 10,
   "metadata": {},
   "outputs": [
    {
     "name": "stdout",
     "output_type": "stream",
     "text": [
      "Requirement already satisfied: prophet in c:\\users\\dreddy86\\appdata\\roaming\\python\\python37\\site-packages (1.1.2)\n",
      "Requirement already satisfied: numpy>=1.15.4 in c:\\users\\dreddy86\\anaconda3\\lib\\site-packages (from prophet) (1.21.6)\n",
      "Requirement already satisfied: python-dateutil>=2.8.0 in c:\\users\\dreddy86\\anaconda3\\lib\\site-packages (from prophet) (2.8.2)\n",
      "Requirement already satisfied: pandas>=1.0.4 in c:\\users\\dreddy86\\appdata\\roaming\\python\\python37\\site-packages (from prophet) (1.1.5)\n",
      "Requirement already satisfied: holidays>=0.14.2 in c:\\users\\dreddy86\\appdata\\roaming\\python\\python37\\site-packages (from prophet) (0.18)\n",
      "Requirement already satisfied: convertdate>=2.1.2 in c:\\users\\dreddy86\\anaconda3\\lib\\site-packages (from prophet) (2.4.0)\n",
      "Requirement already satisfied: tqdm>=4.36.1 in c:\\users\\dreddy86\\appdata\\roaming\\python\\python37\\site-packages (from prophet) (4.64.1)\n",
      "Requirement already satisfied: LunarCalendar>=0.0.9 in c:\\users\\dreddy86\\anaconda3\\lib\\site-packages (from prophet) (0.0.9)\n",
      "Requirement already satisfied: matplotlib>=2.0.0 in c:\\users\\dreddy86\\anaconda3\\lib\\site-packages (from prophet) (2.2.3)\n",
      "Requirement already satisfied: cmdstanpy>=1.0.4 in c:\\users\\dreddy86\\appdata\\roaming\\python\\python37\\site-packages (from prophet) (1.1.0)\n",
      "Requirement already satisfied: pymeeus<=1,>=0.3.13 in c:\\users\\dreddy86\\anaconda3\\lib\\site-packages (from convertdate>=2.1.2->prophet) (0.5.12)\n",
      "Requirement already satisfied: korean-lunar-calendar in c:\\users\\dreddy86\\appdata\\roaming\\python\\python37\\site-packages (from holidays>=0.14.2->prophet) (0.3.1)\n",
      "Requirement already satisfied: hijri-converter in c:\\users\\dreddy86\\appdata\\roaming\\python\\python37\\site-packages (from holidays>=0.14.2->prophet) (2.2.4)\n",
      "Requirement already satisfied: pytz in c:\\users\\dreddy86\\anaconda3\\lib\\site-packages (from LunarCalendar>=0.0.9->prophet) (2018.5)\n",
      "Requirement already satisfied: ephem>=3.7.5.3 in c:\\users\\dreddy86\\anaconda3\\lib\\site-packages (from LunarCalendar>=0.0.9->prophet) (4.1.4)\n",
      "Requirement already satisfied: cycler>=0.10 in c:\\users\\dreddy86\\anaconda3\\lib\\site-packages (from matplotlib>=2.0.0->prophet) (0.10.0)\n",
      "Requirement already satisfied: pyparsing!=2.0.4,!=2.1.2,!=2.1.6,>=2.0.1 in c:\\users\\dreddy86\\anaconda3\\lib\\site-packages (from matplotlib>=2.0.0->prophet) (2.2.0)\n",
      "Requirement already satisfied: six>=1.10 in c:\\users\\dreddy86\\anaconda3\\lib\\site-packages (from matplotlib>=2.0.0->prophet) (1.11.0)\n",
      "Requirement already satisfied: kiwisolver>=1.0.1 in c:\\users\\dreddy86\\anaconda3\\lib\\site-packages (from matplotlib>=2.0.0->prophet) (1.0.1)\n",
      "Requirement already satisfied: colorama in c:\\users\\dreddy86\\anaconda3\\lib\\site-packages (from tqdm>=4.36.1->prophet) (0.3.9)\n",
      "Requirement already satisfied: setuptools in c:\\users\\dreddy86\\anaconda3\\lib\\site-packages (from kiwisolver>=1.0.1->matplotlib>=2.0.0->prophet) (40.2.0)\n"
     ]
    }
   ],
   "source": [
    "#!pip install prophet --user"
   ]
  },
  {
   "cell_type": "code",
   "execution_count": 8,
   "metadata": {},
   "outputs": [
    {
     "name": "stdout",
     "output_type": "stream",
     "text": [
      "Collecting pip\n",
      "  Downloading https://files.pythonhosted.org/packages/09/bd/2410905c76ee14c62baf69e3f4aa780226c1bbfc9485731ad018e35b0cb5/pip-22.3.1-py3-none-any.whl (2.1MB)\n",
      "Installing collected packages: pip\n",
      "  Found existing installation: pip 10.0.1\n",
      "    Uninstalling pip-10.0.1:\n",
      "      Successfully uninstalled pip-10.0.1\n",
      "Successfully installed pip-22.3.1\n"
     ]
    },
    {
     "name": "stderr",
     "output_type": "stream",
     "text": [
      "twisted 18.7.0 requires PyHamcrest>=1.9.0, which is not installed.\n"
     ]
    }
   ],
   "source": [
    "#!python -m pip install --upgrade pip"
   ]
  },
  {
   "cell_type": "code",
   "execution_count": 2,
   "metadata": {},
   "outputs": [
    {
     "data": {
      "text/html": [
       "<div>\n",
       "<style scoped>\n",
       "    .dataframe tbody tr th:only-of-type {\n",
       "        vertical-align: middle;\n",
       "    }\n",
       "\n",
       "    .dataframe tbody tr th {\n",
       "        vertical-align: top;\n",
       "    }\n",
       "\n",
       "    .dataframe thead th {\n",
       "        text-align: right;\n",
       "    }\n",
       "</style>\n",
       "<table border=\"1\" class=\"dataframe\">\n",
       "  <thead>\n",
       "    <tr style=\"text-align: right;\">\n",
       "      <th></th>\n",
       "      <th>date</th>\n",
       "      <th>HUFL</th>\n",
       "      <th>HULL</th>\n",
       "      <th>MUFL</th>\n",
       "      <th>MULL</th>\n",
       "      <th>LUFL</th>\n",
       "      <th>LULL</th>\n",
       "      <th>OT</th>\n",
       "    </tr>\n",
       "  </thead>\n",
       "  <tbody>\n",
       "    <tr>\n",
       "      <th>0</th>\n",
       "      <td>2016-07-01 00:00:00</td>\n",
       "      <td>41.130001</td>\n",
       "      <td>12.481</td>\n",
       "      <td>36.535999</td>\n",
       "      <td>9.355</td>\n",
       "      <td>4.424</td>\n",
       "      <td>1.311</td>\n",
       "      <td>38.661999</td>\n",
       "    </tr>\n",
       "    <tr>\n",
       "      <th>1</th>\n",
       "      <td>2016-07-01 00:15:00</td>\n",
       "      <td>39.622002</td>\n",
       "      <td>11.309</td>\n",
       "      <td>35.543999</td>\n",
       "      <td>8.551</td>\n",
       "      <td>3.209</td>\n",
       "      <td>1.258</td>\n",
       "      <td>38.223000</td>\n",
       "    </tr>\n",
       "    <tr>\n",
       "      <th>2</th>\n",
       "      <td>2016-07-01 00:30:00</td>\n",
       "      <td>38.868000</td>\n",
       "      <td>10.555</td>\n",
       "      <td>34.365002</td>\n",
       "      <td>7.586</td>\n",
       "      <td>4.435</td>\n",
       "      <td>1.258</td>\n",
       "      <td>37.344002</td>\n",
       "    </tr>\n",
       "    <tr>\n",
       "      <th>3</th>\n",
       "      <td>2016-07-01 00:45:00</td>\n",
       "      <td>35.518002</td>\n",
       "      <td>9.214</td>\n",
       "      <td>32.569000</td>\n",
       "      <td>8.712</td>\n",
       "      <td>4.435</td>\n",
       "      <td>1.215</td>\n",
       "      <td>37.124001</td>\n",
       "    </tr>\n",
       "    <tr>\n",
       "      <th>4</th>\n",
       "      <td>2016-07-01 01:00:00</td>\n",
       "      <td>37.528000</td>\n",
       "      <td>10.136</td>\n",
       "      <td>33.936001</td>\n",
       "      <td>7.532</td>\n",
       "      <td>4.435</td>\n",
       "      <td>1.215</td>\n",
       "      <td>37.124001</td>\n",
       "    </tr>\n",
       "    <tr>\n",
       "      <th>...</th>\n",
       "      <td>...</td>\n",
       "      <td>...</td>\n",
       "      <td>...</td>\n",
       "      <td>...</td>\n",
       "      <td>...</td>\n",
       "      <td>...</td>\n",
       "      <td>...</td>\n",
       "      <td>...</td>\n",
       "    </tr>\n",
       "    <tr>\n",
       "      <th>69675</th>\n",
       "      <td>2018-06-26 18:45:00</td>\n",
       "      <td>42.722000</td>\n",
       "      <td>12.230</td>\n",
       "      <td>54.014000</td>\n",
       "      <td>12.652</td>\n",
       "      <td>-11.525</td>\n",
       "      <td>-1.418</td>\n",
       "      <td>45.986500</td>\n",
       "    </tr>\n",
       "    <tr>\n",
       "      <th>69676</th>\n",
       "      <td>2018-06-26 19:00:00</td>\n",
       "      <td>38.868000</td>\n",
       "      <td>10.052</td>\n",
       "      <td>49.859001</td>\n",
       "      <td>10.669</td>\n",
       "      <td>-11.525</td>\n",
       "      <td>-1.418</td>\n",
       "      <td>45.986500</td>\n",
       "    </tr>\n",
       "    <tr>\n",
       "      <th>69677</th>\n",
       "      <td>2018-06-26 19:15:00</td>\n",
       "      <td>39.622002</td>\n",
       "      <td>11.057</td>\n",
       "      <td>50.448002</td>\n",
       "      <td>11.795</td>\n",
       "      <td>-10.299</td>\n",
       "      <td>-1.418</td>\n",
       "      <td>45.546501</td>\n",
       "    </tr>\n",
       "    <tr>\n",
       "      <th>69678</th>\n",
       "      <td>2018-06-26 19:30:00</td>\n",
       "      <td>40.459999</td>\n",
       "      <td>11.392</td>\n",
       "      <td>51.841999</td>\n",
       "      <td>11.929</td>\n",
       "      <td>-11.536</td>\n",
       "      <td>-1.418</td>\n",
       "      <td>45.546501</td>\n",
       "    </tr>\n",
       "    <tr>\n",
       "      <th>69679</th>\n",
       "      <td>2018-06-26 19:45:00</td>\n",
       "      <td>43.223999</td>\n",
       "      <td>12.146</td>\n",
       "      <td>54.737000</td>\n",
       "      <td>12.679</td>\n",
       "      <td>-11.536</td>\n",
       "      <td>-1.418</td>\n",
       "      <td>45.327000</td>\n",
       "    </tr>\n",
       "  </tbody>\n",
       "</table>\n",
       "<p>69680 rows × 8 columns</p>\n",
       "</div>"
      ],
      "text/plain": [
       "                     date       HUFL    HULL       MUFL    MULL    LUFL  \\\n",
       "0     2016-07-01 00:00:00  41.130001  12.481  36.535999   9.355   4.424   \n",
       "1     2016-07-01 00:15:00  39.622002  11.309  35.543999   8.551   3.209   \n",
       "2     2016-07-01 00:30:00  38.868000  10.555  34.365002   7.586   4.435   \n",
       "3     2016-07-01 00:45:00  35.518002   9.214  32.569000   8.712   4.435   \n",
       "4     2016-07-01 01:00:00  37.528000  10.136  33.936001   7.532   4.435   \n",
       "...                   ...        ...     ...        ...     ...     ...   \n",
       "69675 2018-06-26 18:45:00  42.722000  12.230  54.014000  12.652 -11.525   \n",
       "69676 2018-06-26 19:00:00  38.868000  10.052  49.859001  10.669 -11.525   \n",
       "69677 2018-06-26 19:15:00  39.622002  11.057  50.448002  11.795 -10.299   \n",
       "69678 2018-06-26 19:30:00  40.459999  11.392  51.841999  11.929 -11.536   \n",
       "69679 2018-06-26 19:45:00  43.223999  12.146  54.737000  12.679 -11.536   \n",
       "\n",
       "        LULL         OT  \n",
       "0      1.311  38.661999  \n",
       "1      1.258  38.223000  \n",
       "2      1.258  37.344002  \n",
       "3      1.215  37.124001  \n",
       "4      1.215  37.124001  \n",
       "...      ...        ...  \n",
       "69675 -1.418  45.986500  \n",
       "69676 -1.418  45.986500  \n",
       "69677 -1.418  45.546501  \n",
       "69678 -1.418  45.546501  \n",
       "69679 -1.418  45.327000  \n",
       "\n",
       "[69680 rows x 8 columns]"
      ]
     },
     "execution_count": 2,
     "metadata": {},
     "output_type": "execute_result"
    }
   ],
   "source": [
    "df = pd.read_csv('Data/ETTm2_Dataset_consider (1).csv',parse_dates=['date'])\n",
    "df"
   ]
  },
  {
   "cell_type": "code",
   "execution_count": 3,
   "metadata": {},
   "outputs": [
    {
     "data": {
      "text/plain": [
       "[<matplotlib.lines.Line2D at 0x1f997c333c8>]"
      ]
     },
     "execution_count": 3,
     "metadata": {},
     "output_type": "execute_result"
    },
    {
     "data": {
      "image/png": "[encoded data removed]",
      "text/plain": [
       "<Figure size 432x288 with 1 Axes>"
      ]
     },
     "metadata": {
      "needs_background": "light"
     },
     "output_type": "display_data"
    }
   ],
   "source": [
    "plt.plot(df['OT'])"
   ]
  },
  {
   "cell_type": "markdown",
   "metadata": {},
   "source": [
    "## Correlation matrix before adding any extra features"
   ]
  },
  {
   "cell_type": "code",
   "execution_count": 4,
   "metadata": {},
   "outputs": [
    {
     "data": {
      "text/plain": [
       "<matplotlib.axes._subplots.AxesSubplot at 0x1f997ea8eb8>"
      ]
     },
     "execution_count": 4,
     "metadata": {},
     "output_type": "execute_result"
    },
    {
     "data": {
      "image/png": "[encoded data removed]",
      "text/plain": [
       "<Figure size 1152x360 with 2 Axes>"
      ]
     },
     "metadata": {
      "needs_background": "light"
     },
     "output_type": "display_data"
    }
   ],
   "source": [
    "plt.figure(figsize=(16,5))\n",
    "sns.heatmap(df.corr(),annot=True)"
   ]
  },
  {
   "cell_type": "markdown",
   "metadata": {},
   "source": [
    "## Using prophet to extract seasonality features"
   ]
  },
  {
   "cell_type": "code",
   "execution_count": 5,
   "metadata": {},
   "outputs": [],
   "source": [
    "df = df.rename(columns = {'OT' : 'y', 'date' : 'ds'}) # renaming datetime and output column to fit into prophet"
   ]
  },
  {
   "cell_type": "code",
   "execution_count": 30,
   "metadata": {},
   "outputs": [
    {
     "data": {
      "text/html": [
       "<div>\n",
       "<style scoped>\n",
       "    .dataframe tbody tr th:only-of-type {\n",
       "        vertical-align: middle;\n",
       "    }\n",
       "\n",
       "    .dataframe tbody tr th {\n",
       "        vertical-align: top;\n",
       "    }\n",
       "\n",
       "    .dataframe thead th {\n",
       "        text-align: right;\n",
       "    }\n",
       "</style>\n",
       "<table border=\"1\" class=\"dataframe\">\n",
       "  <thead>\n",
       "    <tr style=\"text-align: right;\">\n",
       "      <th></th>\n",
       "      <th>ds</th>\n",
       "      <th>HUFL</th>\n",
       "      <th>HULL</th>\n",
       "      <th>MUFL</th>\n",
       "      <th>MULL</th>\n",
       "      <th>LUFL</th>\n",
       "      <th>LULL</th>\n",
       "      <th>y</th>\n",
       "    </tr>\n",
       "  </thead>\n",
       "  <tbody>\n",
       "    <tr>\n",
       "      <th>0</th>\n",
       "      <td>2016-07-01 00:00:00</td>\n",
       "      <td>41.130001</td>\n",
       "      <td>12.481</td>\n",
       "      <td>36.535999</td>\n",
       "      <td>9.355</td>\n",
       "      <td>4.424</td>\n",
       "      <td>1.311</td>\n",
       "      <td>38.661999</td>\n",
       "    </tr>\n",
       "    <tr>\n",
       "      <th>1</th>\n",
       "      <td>2016-07-01 00:15:00</td>\n",
       "      <td>39.622002</td>\n",
       "      <td>11.309</td>\n",
       "      <td>35.543999</td>\n",
       "      <td>8.551</td>\n",
       "      <td>3.209</td>\n",
       "      <td>1.258</td>\n",
       "      <td>38.223000</td>\n",
       "    </tr>\n",
       "    <tr>\n",
       "      <th>2</th>\n",
       "      <td>2016-07-01 00:30:00</td>\n",
       "      <td>38.868000</td>\n",
       "      <td>10.555</td>\n",
       "      <td>34.365002</td>\n",
       "      <td>7.586</td>\n",
       "      <td>4.435</td>\n",
       "      <td>1.258</td>\n",
       "      <td>37.344002</td>\n",
       "    </tr>\n",
       "    <tr>\n",
       "      <th>3</th>\n",
       "      <td>2016-07-01 00:45:00</td>\n",
       "      <td>35.518002</td>\n",
       "      <td>9.214</td>\n",
       "      <td>32.569000</td>\n",
       "      <td>8.712</td>\n",
       "      <td>4.435</td>\n",
       "      <td>1.215</td>\n",
       "      <td>37.124001</td>\n",
       "    </tr>\n",
       "    <tr>\n",
       "      <th>4</th>\n",
       "      <td>2016-07-01 01:00:00</td>\n",
       "      <td>37.528000</td>\n",
       "      <td>10.136</td>\n",
       "      <td>33.936001</td>\n",
       "      <td>7.532</td>\n",
       "      <td>4.435</td>\n",
       "      <td>1.215</td>\n",
       "      <td>37.124001</td>\n",
       "    </tr>\n",
       "    <tr>\n",
       "      <th>...</th>\n",
       "      <td>...</td>\n",
       "      <td>...</td>\n",
       "      <td>...</td>\n",
       "      <td>...</td>\n",
       "      <td>...</td>\n",
       "      <td>...</td>\n",
       "      <td>...</td>\n",
       "      <td>...</td>\n",
       "    </tr>\n",
       "    <tr>\n",
       "      <th>55995</th>\n",
       "      <td>2018-02-04 06:45:00</td>\n",
       "      <td>42.638000</td>\n",
       "      <td>0.000</td>\n",
       "      <td>43.800999</td>\n",
       "      <td>1.448</td>\n",
       "      <td>0.000</td>\n",
       "      <td>0.000</td>\n",
       "      <td>-0.888500</td>\n",
       "    </tr>\n",
       "    <tr>\n",
       "      <th>55996</th>\n",
       "      <td>2018-02-04 07:00:00</td>\n",
       "      <td>41.549000</td>\n",
       "      <td>0.000</td>\n",
       "      <td>43.747002</td>\n",
       "      <td>1.421</td>\n",
       "      <td>-1.279</td>\n",
       "      <td>0.000</td>\n",
       "      <td>-0.888500</td>\n",
       "    </tr>\n",
       "    <tr>\n",
       "      <th>55997</th>\n",
       "      <td>2018-02-04 07:15:00</td>\n",
       "      <td>40.375999</td>\n",
       "      <td>0.000</td>\n",
       "      <td>41.737000</td>\n",
       "      <td>0.000</td>\n",
       "      <td>0.000</td>\n",
       "      <td>0.000</td>\n",
       "      <td>-1.108500</td>\n",
       "    </tr>\n",
       "    <tr>\n",
       "      <th>55998</th>\n",
       "      <td>2018-02-04 07:30:00</td>\n",
       "      <td>38.449001</td>\n",
       "      <td>0.000</td>\n",
       "      <td>39.297001</td>\n",
       "      <td>0.000</td>\n",
       "      <td>0.000</td>\n",
       "      <td>0.000</td>\n",
       "      <td>-1.108500</td>\n",
       "    </tr>\n",
       "    <tr>\n",
       "      <th>55999</th>\n",
       "      <td>2018-02-04 07:45:00</td>\n",
       "      <td>38.701000</td>\n",
       "      <td>0.000</td>\n",
       "      <td>40.798000</td>\n",
       "      <td>0.000</td>\n",
       "      <td>-1.557</td>\n",
       "      <td>0.000</td>\n",
       "      <td>-1.108500</td>\n",
       "    </tr>\n",
       "  </tbody>\n",
       "</table>\n",
       "<p>56000 rows × 8 columns</p>\n",
       "</div>"
      ],
      "text/plain": [
       "                       ds       HUFL    HULL       MUFL   MULL   LUFL   LULL  \\\n",
       "0     2016-07-01 00:00:00  41.130001  12.481  36.535999  9.355  4.424  1.311   \n",
       "1     2016-07-01 00:15:00  39.622002  11.309  35.543999  8.551  3.209  1.258   \n",
       "2     2016-07-01 00:30:00  38.868000  10.555  34.365002  7.586  4.435  1.258   \n",
       "3     2016-07-01 00:45:00  35.518002   9.214  32.569000  8.712  4.435  1.215   \n",
       "4     2016-07-01 01:00:00  37.528000  10.136  33.936001  7.532  4.435  1.215   \n",
       "...                   ...        ...     ...        ...    ...    ...    ...   \n",
       "55995 2018-02-04 06:45:00  42.638000   0.000  43.800999  1.448  0.000  0.000   \n",
       "55996 2018-02-04 07:00:00  41.549000   0.000  43.747002  1.421 -1.279  0.000   \n",
       "55997 2018-02-04 07:15:00  40.375999   0.000  41.737000  0.000  0.000  0.000   \n",
       "55998 2018-02-04 07:30:00  38.449001   0.000  39.297001  0.000  0.000  0.000   \n",
       "55999 2018-02-04 07:45:00  38.701000   0.000  40.798000  0.000 -1.557  0.000   \n",
       "\n",
       "               y  \n",
       "0      38.661999  \n",
       "1      38.223000  \n",
       "2      37.344002  \n",
       "3      37.124001  \n",
       "4      37.124001  \n",
       "...          ...  \n",
       "55995  -0.888500  \n",
       "55996  -0.888500  \n",
       "55997  -1.108500  \n",
       "55998  -1.108500  \n",
       "55999  -1.108500  \n",
       "\n",
       "[56000 rows x 8 columns]"
      ]
     },
     "execution_count": 30,
     "metadata": {},
     "output_type": "execute_result"
    }
   ],
   "source": [
    "train = df.iloc[:56000]\n",
    "test = df.iloc[56000:]\n",
    "train"
   ]
  },
  {
   "cell_type": "code",
   "execution_count": 31,
   "metadata": {},
   "outputs": [
    {
     "name": "stderr",
     "output_type": "stream",
     "text": [
      "11:07:55 - cmdstanpy - INFO - Chain [1] start processing\n",
      "11:08:37 - cmdstanpy - INFO - Chain [1] done processing\n"
     ]
    },
    {
     "data": {
      "text/plain": [
       "<prophet.forecaster.Prophet at 0x1cb686baa20>"
      ]
     },
     "execution_count": 31,
     "metadata": {},
     "output_type": "execute_result"
    }
   ],
   "source": [
    "mm = Prophet()\n",
    "mm.fit(train)"
   ]
  },
  {
   "cell_type": "code",
   "execution_count": 32,
   "metadata": {},
   "outputs": [
    {
     "data": {
      "text/html": [
       "<div>\n",
       "<style scoped>\n",
       "    .dataframe tbody tr th:only-of-type {\n",
       "        vertical-align: middle;\n",
       "    }\n",
       "\n",
       "    .dataframe tbody tr th {\n",
       "        vertical-align: top;\n",
       "    }\n",
       "\n",
       "    .dataframe thead th {\n",
       "        text-align: right;\n",
       "    }\n",
       "</style>\n",
       "<table border=\"1\" class=\"dataframe\">\n",
       "  <thead>\n",
       "    <tr style=\"text-align: right;\">\n",
       "      <th></th>\n",
       "      <th>ds</th>\n",
       "    </tr>\n",
       "  </thead>\n",
       "  <tbody>\n",
       "    <tr>\n",
       "      <th>0</th>\n",
       "      <td>2016-07-01 00:00:00</td>\n",
       "    </tr>\n",
       "    <tr>\n",
       "      <th>1</th>\n",
       "      <td>2016-07-01 00:15:00</td>\n",
       "    </tr>\n",
       "    <tr>\n",
       "      <th>2</th>\n",
       "      <td>2016-07-01 00:30:00</td>\n",
       "    </tr>\n",
       "    <tr>\n",
       "      <th>3</th>\n",
       "      <td>2016-07-01 00:45:00</td>\n",
       "    </tr>\n",
       "    <tr>\n",
       "      <th>4</th>\n",
       "      <td>2016-07-01 01:00:00</td>\n",
       "    </tr>\n",
       "    <tr>\n",
       "      <th>...</th>\n",
       "      <td>...</td>\n",
       "    </tr>\n",
       "    <tr>\n",
       "      <th>69675</th>\n",
       "      <td>2018-06-26 18:45:00</td>\n",
       "    </tr>\n",
       "    <tr>\n",
       "      <th>69676</th>\n",
       "      <td>2018-06-26 19:00:00</td>\n",
       "    </tr>\n",
       "    <tr>\n",
       "      <th>69677</th>\n",
       "      <td>2018-06-26 19:15:00</td>\n",
       "    </tr>\n",
       "    <tr>\n",
       "      <th>69678</th>\n",
       "      <td>2018-06-26 19:30:00</td>\n",
       "    </tr>\n",
       "    <tr>\n",
       "      <th>69679</th>\n",
       "      <td>2018-06-26 19:45:00</td>\n",
       "    </tr>\n",
       "  </tbody>\n",
       "</table>\n",
       "<p>69680 rows × 1 columns</p>\n",
       "</div>"
      ],
      "text/plain": [
       "                       ds\n",
       "0     2016-07-01 00:00:00\n",
       "1     2016-07-01 00:15:00\n",
       "2     2016-07-01 00:30:00\n",
       "3     2016-07-01 00:45:00\n",
       "4     2016-07-01 01:00:00\n",
       "...                   ...\n",
       "69675 2018-06-26 18:45:00\n",
       "69676 2018-06-26 19:00:00\n",
       "69677 2018-06-26 19:15:00\n",
       "69678 2018-06-26 19:30:00\n",
       "69679 2018-06-26 19:45:00\n",
       "\n",
       "[69680 rows x 1 columns]"
      ]
     },
     "execution_count": 32,
     "metadata": {},
     "output_type": "execute_result"
    }
   ],
   "source": [
    "mfuture = mm.make_future_dataframe(periods=13680,freq='900s') # frequency as 15 minutes\n",
    "mfuture"
   ]
  },
  {
   "cell_type": "code",
   "execution_count": 33,
   "metadata": {},
   "outputs": [
    {
     "data": {
      "text/html": [
       "<div>\n",
       "<style scoped>\n",
       "    .dataframe tbody tr th:only-of-type {\n",
       "        vertical-align: middle;\n",
       "    }\n",
       "\n",
       "    .dataframe tbody tr th {\n",
       "        vertical-align: top;\n",
       "    }\n",
       "\n",
       "    .dataframe thead th {\n",
       "        text-align: right;\n",
       "    }\n",
       "</style>\n",
       "<table border=\"1\" class=\"dataframe\">\n",
       "  <thead>\n",
       "    <tr style=\"text-align: right;\">\n",
       "      <th></th>\n",
       "      <th>ds</th>\n",
       "      <th>trend</th>\n",
       "      <th>yhat_lower</th>\n",
       "      <th>yhat_upper</th>\n",
       "      <th>trend_lower</th>\n",
       "      <th>trend_upper</th>\n",
       "      <th>additive_terms</th>\n",
       "      <th>additive_terms_lower</th>\n",
       "      <th>additive_terms_upper</th>\n",
       "      <th>daily</th>\n",
       "      <th>daily_lower</th>\n",
       "      <th>daily_upper</th>\n",
       "      <th>weekly</th>\n",
       "      <th>weekly_lower</th>\n",
       "      <th>weekly_upper</th>\n",
       "      <th>multiplicative_terms</th>\n",
       "      <th>multiplicative_terms_lower</th>\n",
       "      <th>multiplicative_terms_upper</th>\n",
       "      <th>yhat</th>\n",
       "    </tr>\n",
       "  </thead>\n",
       "  <tbody>\n",
       "    <tr>\n",
       "      <th>56000</th>\n",
       "      <td>2018-02-04 08:00:00</td>\n",
       "      <td>5.741169</td>\n",
       "      <td>-2.381826</td>\n",
       "      <td>8.579222</td>\n",
       "      <td>5.741169</td>\n",
       "      <td>5.741169</td>\n",
       "      <td>-2.757246</td>\n",
       "      <td>-2.757246</td>\n",
       "      <td>-2.757246</td>\n",
       "      <td>-3.375565</td>\n",
       "      <td>-3.375565</td>\n",
       "      <td>-3.375565</td>\n",
       "      <td>0.618319</td>\n",
       "      <td>0.618319</td>\n",
       "      <td>0.618319</td>\n",
       "      <td>0.0</td>\n",
       "      <td>0.0</td>\n",
       "      <td>0.0</td>\n",
       "      <td>2.983923</td>\n",
       "    </tr>\n",
       "    <tr>\n",
       "      <th>56001</th>\n",
       "      <td>2018-02-04 08:15:00</td>\n",
       "      <td>5.739319</td>\n",
       "      <td>-2.363267</td>\n",
       "      <td>8.544413</td>\n",
       "      <td>5.739319</td>\n",
       "      <td>5.739319</td>\n",
       "      <td>-2.502670</td>\n",
       "      <td>-2.502670</td>\n",
       "      <td>-2.502670</td>\n",
       "      <td>-3.126693</td>\n",
       "      <td>-3.126693</td>\n",
       "      <td>-3.126693</td>\n",
       "      <td>0.624023</td>\n",
       "      <td>0.624023</td>\n",
       "      <td>0.624023</td>\n",
       "      <td>0.0</td>\n",
       "      <td>0.0</td>\n",
       "      <td>0.0</td>\n",
       "      <td>3.236648</td>\n",
       "    </tr>\n",
       "    <tr>\n",
       "      <th>56002</th>\n",
       "      <td>2018-02-04 08:30:00</td>\n",
       "      <td>5.737468</td>\n",
       "      <td>-2.054664</td>\n",
       "      <td>8.522624</td>\n",
       "      <td>5.737468</td>\n",
       "      <td>5.737468</td>\n",
       "      <td>-2.208929</td>\n",
       "      <td>-2.208929</td>\n",
       "      <td>-2.208929</td>\n",
       "      <td>-2.838533</td>\n",
       "      <td>-2.838533</td>\n",
       "      <td>-2.838533</td>\n",
       "      <td>0.629605</td>\n",
       "      <td>0.629605</td>\n",
       "      <td>0.629605</td>\n",
       "      <td>0.0</td>\n",
       "      <td>0.0</td>\n",
       "      <td>0.0</td>\n",
       "      <td>3.528540</td>\n",
       "    </tr>\n",
       "    <tr>\n",
       "      <th>56003</th>\n",
       "      <td>2018-02-04 08:45:00</td>\n",
       "      <td>5.735618</td>\n",
       "      <td>-1.689973</td>\n",
       "      <td>9.323361</td>\n",
       "      <td>5.735618</td>\n",
       "      <td>5.735618</td>\n",
       "      <td>-1.878646</td>\n",
       "      <td>-1.878646</td>\n",
       "      <td>-1.878646</td>\n",
       "      <td>-2.513709</td>\n",
       "      <td>-2.513709</td>\n",
       "      <td>-2.513709</td>\n",
       "      <td>0.635063</td>\n",
       "      <td>0.635063</td>\n",
       "      <td>0.635063</td>\n",
       "      <td>0.0</td>\n",
       "      <td>0.0</td>\n",
       "      <td>0.0</td>\n",
       "      <td>3.856973</td>\n",
       "    </tr>\n",
       "    <tr>\n",
       "      <th>56004</th>\n",
       "      <td>2018-02-04 09:00:00</td>\n",
       "      <td>5.733768</td>\n",
       "      <td>-1.007809</td>\n",
       "      <td>9.893228</td>\n",
       "      <td>5.733768</td>\n",
       "      <td>5.733768</td>\n",
       "      <td>-1.515274</td>\n",
       "      <td>-1.515274</td>\n",
       "      <td>-1.515274</td>\n",
       "      <td>-2.155672</td>\n",
       "      <td>-2.155672</td>\n",
       "      <td>-2.155672</td>\n",
       "      <td>0.640398</td>\n",
       "      <td>0.640398</td>\n",
       "      <td>0.640398</td>\n",
       "      <td>0.0</td>\n",
       "      <td>0.0</td>\n",
       "      <td>0.0</td>\n",
       "      <td>4.218494</td>\n",
       "    </tr>\n",
       "    <tr>\n",
       "      <th>...</th>\n",
       "      <td>...</td>\n",
       "      <td>...</td>\n",
       "      <td>...</td>\n",
       "      <td>...</td>\n",
       "      <td>...</td>\n",
       "      <td>...</td>\n",
       "      <td>...</td>\n",
       "      <td>...</td>\n",
       "      <td>...</td>\n",
       "      <td>...</td>\n",
       "      <td>...</td>\n",
       "      <td>...</td>\n",
       "      <td>...</td>\n",
       "      <td>...</td>\n",
       "      <td>...</td>\n",
       "      <td>...</td>\n",
       "      <td>...</td>\n",
       "      <td>...</td>\n",
       "      <td>...</td>\n",
       "    </tr>\n",
       "    <tr>\n",
       "      <th>69675</th>\n",
       "      <td>2018-06-26 18:45:00</td>\n",
       "      <td>-19.558052</td>\n",
       "      <td>-78.263968</td>\n",
       "      <td>37.968534</td>\n",
       "      <td>-78.226568</td>\n",
       "      <td>38.831137</td>\n",
       "      <td>1.503409</td>\n",
       "      <td>1.503409</td>\n",
       "      <td>1.503409</td>\n",
       "      <td>1.649255</td>\n",
       "      <td>1.649255</td>\n",
       "      <td>1.649255</td>\n",
       "      <td>-0.145846</td>\n",
       "      <td>-0.145846</td>\n",
       "      <td>-0.145846</td>\n",
       "      <td>0.0</td>\n",
       "      <td>0.0</td>\n",
       "      <td>0.0</td>\n",
       "      <td>-18.054643</td>\n",
       "    </tr>\n",
       "    <tr>\n",
       "      <th>69676</th>\n",
       "      <td>2018-06-26 19:00:00</td>\n",
       "      <td>-19.559902</td>\n",
       "      <td>-77.635490</td>\n",
       "      <td>39.987394</td>\n",
       "      <td>-78.235180</td>\n",
       "      <td>38.847432</td>\n",
       "      <td>1.232479</td>\n",
       "      <td>1.232479</td>\n",
       "      <td>1.232479</td>\n",
       "      <td>1.389304</td>\n",
       "      <td>1.389304</td>\n",
       "      <td>1.389304</td>\n",
       "      <td>-0.156825</td>\n",
       "      <td>-0.156825</td>\n",
       "      <td>-0.156825</td>\n",
       "      <td>0.0</td>\n",
       "      <td>0.0</td>\n",
       "      <td>0.0</td>\n",
       "      <td>-18.327423</td>\n",
       "    </tr>\n",
       "    <tr>\n",
       "      <th>69677</th>\n",
       "      <td>2018-06-26 19:15:00</td>\n",
       "      <td>-19.561752</td>\n",
       "      <td>-80.185319</td>\n",
       "      <td>37.988409</td>\n",
       "      <td>-78.243791</td>\n",
       "      <td>38.863727</td>\n",
       "      <td>0.975788</td>\n",
       "      <td>0.975788</td>\n",
       "      <td>0.975788</td>\n",
       "      <td>1.143630</td>\n",
       "      <td>1.143630</td>\n",
       "      <td>1.143630</td>\n",
       "      <td>-0.167842</td>\n",
       "      <td>-0.167842</td>\n",
       "      <td>-0.167842</td>\n",
       "      <td>0.0</td>\n",
       "      <td>0.0</td>\n",
       "      <td>0.0</td>\n",
       "      <td>-18.585964</td>\n",
       "    </tr>\n",
       "    <tr>\n",
       "      <th>69678</th>\n",
       "      <td>2018-06-26 19:30:00</td>\n",
       "      <td>-19.563602</td>\n",
       "      <td>-77.446043</td>\n",
       "      <td>38.658878</td>\n",
       "      <td>-78.252403</td>\n",
       "      <td>38.871274</td>\n",
       "      <td>0.734843</td>\n",
       "      <td>0.734843</td>\n",
       "      <td>0.734843</td>\n",
       "      <td>0.913738</td>\n",
       "      <td>0.913738</td>\n",
       "      <td>0.913738</td>\n",
       "      <td>-0.178895</td>\n",
       "      <td>-0.178895</td>\n",
       "      <td>-0.178895</td>\n",
       "      <td>0.0</td>\n",
       "      <td>0.0</td>\n",
       "      <td>0.0</td>\n",
       "      <td>-18.828759</td>\n",
       "    </tr>\n",
       "    <tr>\n",
       "      <th>69679</th>\n",
       "      <td>2018-06-26 19:45:00</td>\n",
       "      <td>-19.565452</td>\n",
       "      <td>-79.999732</td>\n",
       "      <td>36.950518</td>\n",
       "      <td>-78.261014</td>\n",
       "      <td>38.872269</td>\n",
       "      <td>0.510462</td>\n",
       "      <td>0.510462</td>\n",
       "      <td>0.510462</td>\n",
       "      <td>0.700442</td>\n",
       "      <td>0.700442</td>\n",
       "      <td>0.700442</td>\n",
       "      <td>-0.189980</td>\n",
       "      <td>-0.189980</td>\n",
       "      <td>-0.189980</td>\n",
       "      <td>0.0</td>\n",
       "      <td>0.0</td>\n",
       "      <td>0.0</td>\n",
       "      <td>-19.054990</td>\n",
       "    </tr>\n",
       "  </tbody>\n",
       "</table>\n",
       "<p>13680 rows × 19 columns</p>\n",
       "</div>"
      ],
      "text/plain": [
       "                       ds      trend  yhat_lower  yhat_upper  trend_lower  \\\n",
       "56000 2018-02-04 08:00:00   5.741169   -2.381826    8.579222     5.741169   \n",
       "56001 2018-02-04 08:15:00   5.739319   -2.363267    8.544413     5.739319   \n",
       "56002 2018-02-04 08:30:00   5.737468   -2.054664    8.522624     5.737468   \n",
       "56003 2018-02-04 08:45:00   5.735618   -1.689973    9.323361     5.735618   \n",
       "56004 2018-02-04 09:00:00   5.733768   -1.007809    9.893228     5.733768   \n",
       "...                   ...        ...         ...         ...          ...   \n",
       "69675 2018-06-26 18:45:00 -19.558052  -78.263968   37.968534   -78.226568   \n",
       "69676 2018-06-26 19:00:00 -19.559902  -77.635490   39.987394   -78.235180   \n",
       "69677 2018-06-26 19:15:00 -19.561752  -80.185319   37.988409   -78.243791   \n",
       "69678 2018-06-26 19:30:00 -19.563602  -77.446043   38.658878   -78.252403   \n",
       "69679 2018-06-26 19:45:00 -19.565452  -79.999732   36.950518   -78.261014   \n",
       "\n",
       "       trend_upper  additive_terms  additive_terms_lower  \\\n",
       "56000     5.741169       -2.757246             -2.757246   \n",
       "56001     5.739319       -2.502670             -2.502670   \n",
       "56002     5.737468       -2.208929             -2.208929   \n",
       "56003     5.735618       -1.878646             -1.878646   \n",
       "56004     5.733768       -1.515274             -1.515274   \n",
       "...            ...             ...                   ...   \n",
       "69675    38.831137        1.503409              1.503409   \n",
       "69676    38.847432        1.232479              1.232479   \n",
       "69677    38.863727        0.975788              0.975788   \n",
       "69678    38.871274        0.734843              0.734843   \n",
       "69679    38.872269        0.510462              0.510462   \n",
       "\n",
       "       additive_terms_upper     daily  daily_lower  daily_upper    weekly  \\\n",
       "56000             -2.757246 -3.375565    -3.375565    -3.375565  0.618319   \n",
       "56001             -2.502670 -3.126693    -3.126693    -3.126693  0.624023   \n",
       "56002             -2.208929 -2.838533    -2.838533    -2.838533  0.629605   \n",
       "56003             -1.878646 -2.513709    -2.513709    -2.513709  0.635063   \n",
       "56004             -1.515274 -2.155672    -2.155672    -2.155672  0.640398   \n",
       "...                     ...       ...          ...          ...       ...   \n",
       "69675              1.503409  1.649255     1.649255     1.649255 -0.145846   \n",
       "69676              1.232479  1.389304     1.389304     1.389304 -0.156825   \n",
       "69677              0.975788  1.143630     1.143630     1.143630 -0.167842   \n",
       "69678              0.734843  0.913738     0.913738     0.913738 -0.178895   \n",
       "69679              0.510462  0.700442     0.700442     0.700442 -0.189980   \n",
       "\n",
       "       weekly_lower  weekly_upper  multiplicative_terms  \\\n",
       "56000      0.618319      0.618319                   0.0   \n",
       "56001      0.624023      0.624023                   0.0   \n",
       "56002      0.629605      0.629605                   0.0   \n",
       "56003      0.635063      0.635063                   0.0   \n",
       "56004      0.640398      0.640398                   0.0   \n",
       "...             ...           ...                   ...   \n",
       "69675     -0.145846     -0.145846                   0.0   \n",
       "69676     -0.156825     -0.156825                   0.0   \n",
       "69677     -0.167842     -0.167842                   0.0   \n",
       "69678     -0.178895     -0.178895                   0.0   \n",
       "69679     -0.189980     -0.189980                   0.0   \n",
       "\n",
       "       multiplicative_terms_lower  multiplicative_terms_upper       yhat  \n",
       "56000                         0.0                         0.0   2.983923  \n",
       "56001                         0.0                         0.0   3.236648  \n",
       "56002                         0.0                         0.0   3.528540  \n",
       "56003                         0.0                         0.0   3.856973  \n",
       "56004                         0.0                         0.0   4.218494  \n",
       "...                           ...                         ...        ...  \n",
       "69675                         0.0                         0.0 -18.054643  \n",
       "69676                         0.0                         0.0 -18.327423  \n",
       "69677                         0.0                         0.0 -18.585964  \n",
       "69678                         0.0                         0.0 -18.828759  \n",
       "69679                         0.0                         0.0 -19.054990  \n",
       "\n",
       "[13680 rows x 19 columns]"
      ]
     },
     "execution_count": 33,
     "metadata": {},
     "output_type": "execute_result"
    }
   ],
   "source": [
    "mforecast = mm.predict(mfuture)\n",
    "mforecast.tail(13680)"
   ]
  },
  {
   "cell_type": "code",
   "execution_count": 34,
   "metadata": {},
   "outputs": [
    {
     "data": {
      "text/plain": [
       "<matplotlib.axes._subplots.AxesSubplot at 0x1cb68983ef0>"
      ]
     },
     "execution_count": 34,
     "metadata": {},
     "output_type": "execute_result"
    },
    {
     "data": {
      "image/png": "[encoded data removed]",
      "text/plain": [
       "<Figure size 432x288 with 1 Axes>"
      ]
     },
     "metadata": {
      "needs_background": "light"
     },
     "output_type": "display_data"
    }
   ],
   "source": [
    "test['y'].plot() # y of test data"
   ]
  },
  {
   "cell_type": "code",
   "execution_count": 36,
   "metadata": {},
   "outputs": [
    {
     "data": {
      "text/plain": [
       "<matplotlib.axes._subplots.AxesSubplot at 0x1cb001879e8>"
      ]
     },
     "execution_count": 36,
     "metadata": {},
     "output_type": "execute_result"
    },
    {
     "data": {
      "image/png": "[encoded data removed]",
      "text/plain": [
       "<Figure size 432x288 with 1 Axes>"
      ]
     },
     "metadata": {
      "needs_background": "light"
     },
     "output_type": "display_data"
    }
   ],
   "source": [
    "mforecast.tail(13680)['yhat'].plot() # prophet y predict plot for test data"
   ]
  },
  {
   "cell_type": "markdown",
   "metadata": {},
   "source": [
    "### Extracting date features and adding prophet features"
   ]
  },
  {
   "cell_type": "code",
   "execution_count": 37,
   "metadata": {},
   "outputs": [],
   "source": [
    "df['day'] = df['ds'].dt.day\n",
    "df['month'] = df['ds'].dt.month\n",
    "df['year'] = df['ds'].dt.year\n",
    "df['weekday'] = df['ds'].dt.weekday\n",
    "df['hour'] = df['ds'].dt.hour\n",
    "df['trend'] = mforecast['trend']\n",
    "df['additive_terms'] = mforecast['additive_terms']\n",
    "df['daily'] = mforecast['daily'] \n",
    "df['weekly'] = mforecast['weekly']\n"
   ]
  },
  {
   "cell_type": "markdown",
   "metadata": {},
   "source": [
    "### Adding rolling mean as a feature"
   ]
  },
  {
   "cell_type": "code",
   "execution_count": 40,
   "metadata": {},
   "outputs": [],
   "source": [
    "df['rol_mean2'] = df['y'].rolling(2).mean()"
   ]
  },
  {
   "cell_type": "markdown",
   "metadata": {},
   "source": [
    "## Correlation matrix after adding features"
   ]
  },
  {
   "cell_type": "code",
   "execution_count": null,
   "metadata": {},
   "outputs": [],
   "source": [
    "plt.figure(figsize=(16,5))\n",
    "sns.heatmap(df.corr(),annot=True)"
   ]
  },
  {
   "cell_type": "markdown",
   "metadata": {},
   "source": [
    "## Xgboost"
   ]
  },
  {
   "cell_type": "code",
   "execution_count": 41,
   "metadata": {},
   "outputs": [],
   "source": [
    "from xgboost import XGBRegressor"
   ]
  },
  {
   "cell_type": "code",
   "execution_count": 42,
   "metadata": {},
   "outputs": [],
   "source": [
    "X = df.iloc[:56000,1:].drop('y',axis=1)\n",
    "y = df.iloc[:56000,7]"
   ]
  },
  {
   "cell_type": "code",
   "execution_count": 43,
   "metadata": {},
   "outputs": [
    {
     "data": {
      "text/html": [
       "<div>\n",
       "<style scoped>\n",
       "    .dataframe tbody tr th:only-of-type {\n",
       "        vertical-align: middle;\n",
       "    }\n",
       "\n",
       "    .dataframe tbody tr th {\n",
       "        vertical-align: top;\n",
       "    }\n",
       "\n",
       "    .dataframe thead th {\n",
       "        text-align: right;\n",
       "    }\n",
       "</style>\n",
       "<table border=\"1\" class=\"dataframe\">\n",
       "  <thead>\n",
       "    <tr style=\"text-align: right;\">\n",
       "      <th></th>\n",
       "      <th>HUFL</th>\n",
       "      <th>HULL</th>\n",
       "      <th>MUFL</th>\n",
       "      <th>MULL</th>\n",
       "      <th>LUFL</th>\n",
       "      <th>LULL</th>\n",
       "      <th>day</th>\n",
       "      <th>month</th>\n",
       "      <th>year</th>\n",
       "      <th>weekday</th>\n",
       "      <th>hour</th>\n",
       "      <th>trend</th>\n",
       "      <th>additive_terms</th>\n",
       "      <th>daily</th>\n",
       "      <th>weekly</th>\n",
       "      <th>rol_mean2</th>\n",
       "    </tr>\n",
       "  </thead>\n",
       "  <tbody>\n",
       "    <tr>\n",
       "      <th>0</th>\n",
       "      <td>41.130001</td>\n",
       "      <td>12.481</td>\n",
       "      <td>36.535999</td>\n",
       "      <td>9.355</td>\n",
       "      <td>4.424</td>\n",
       "      <td>1.311</td>\n",
       "      <td>1</td>\n",
       "      <td>7</td>\n",
       "      <td>2016</td>\n",
       "      <td>4</td>\n",
       "      <td>0</td>\n",
       "      <td>30.138253</td>\n",
       "      <td>-1.665898</td>\n",
       "      <td>-1.503648</td>\n",
       "      <td>-0.162250</td>\n",
       "      <td>NaN</td>\n",
       "    </tr>\n",
       "    <tr>\n",
       "      <th>1</th>\n",
       "      <td>39.622002</td>\n",
       "      <td>11.309</td>\n",
       "      <td>35.543999</td>\n",
       "      <td>8.551</td>\n",
       "      <td>3.209</td>\n",
       "      <td>1.258</td>\n",
       "      <td>1</td>\n",
       "      <td>7</td>\n",
       "      <td>2016</td>\n",
       "      <td>4</td>\n",
       "      <td>0</td>\n",
       "      <td>30.146140</td>\n",
       "      <td>-1.772954</td>\n",
       "      <td>-1.614073</td>\n",
       "      <td>-0.158881</td>\n",
       "      <td>38.442499</td>\n",
       "    </tr>\n",
       "    <tr>\n",
       "      <th>2</th>\n",
       "      <td>38.868000</td>\n",
       "      <td>10.555</td>\n",
       "      <td>34.365002</td>\n",
       "      <td>7.586</td>\n",
       "      <td>4.435</td>\n",
       "      <td>1.258</td>\n",
       "      <td>1</td>\n",
       "      <td>7</td>\n",
       "      <td>2016</td>\n",
       "      <td>4</td>\n",
       "      <td>0</td>\n",
       "      <td>30.154028</td>\n",
       "      <td>-1.878027</td>\n",
       "      <td>-1.722370</td>\n",
       "      <td>-0.155658</td>\n",
       "      <td>37.783501</td>\n",
       "    </tr>\n",
       "    <tr>\n",
       "      <th>3</th>\n",
       "      <td>35.518002</td>\n",
       "      <td>9.214</td>\n",
       "      <td>32.569000</td>\n",
       "      <td>8.712</td>\n",
       "      <td>4.435</td>\n",
       "      <td>1.215</td>\n",
       "      <td>1</td>\n",
       "      <td>7</td>\n",
       "      <td>2016</td>\n",
       "      <td>4</td>\n",
       "      <td>0</td>\n",
       "      <td>30.161916</td>\n",
       "      <td>-1.980473</td>\n",
       "      <td>-1.827893</td>\n",
       "      <td>-0.152580</td>\n",
       "      <td>37.234001</td>\n",
       "    </tr>\n",
       "    <tr>\n",
       "      <th>4</th>\n",
       "      <td>37.528000</td>\n",
       "      <td>10.136</td>\n",
       "      <td>33.936001</td>\n",
       "      <td>7.532</td>\n",
       "      <td>4.435</td>\n",
       "      <td>1.215</td>\n",
       "      <td>1</td>\n",
       "      <td>7</td>\n",
       "      <td>2016</td>\n",
       "      <td>4</td>\n",
       "      <td>1</td>\n",
       "      <td>30.169804</td>\n",
       "      <td>-2.079849</td>\n",
       "      <td>-1.930200</td>\n",
       "      <td>-0.149648</td>\n",
       "      <td>37.124001</td>\n",
       "    </tr>\n",
       "    <tr>\n",
       "      <th>...</th>\n",
       "      <td>...</td>\n",
       "      <td>...</td>\n",
       "      <td>...</td>\n",
       "      <td>...</td>\n",
       "      <td>...</td>\n",
       "      <td>...</td>\n",
       "      <td>...</td>\n",
       "      <td>...</td>\n",
       "      <td>...</td>\n",
       "      <td>...</td>\n",
       "      <td>...</td>\n",
       "      <td>...</td>\n",
       "      <td>...</td>\n",
       "      <td>...</td>\n",
       "      <td>...</td>\n",
       "      <td>...</td>\n",
       "    </tr>\n",
       "    <tr>\n",
       "      <th>55995</th>\n",
       "      <td>42.638000</td>\n",
       "      <td>0.000</td>\n",
       "      <td>43.800999</td>\n",
       "      <td>1.448</td>\n",
       "      <td>0.000</td>\n",
       "      <td>0.000</td>\n",
       "      <td>4</td>\n",
       "      <td>2</td>\n",
       "      <td>2018</td>\n",
       "      <td>6</td>\n",
       "      <td>6</td>\n",
       "      <td>5.750419</td>\n",
       "      <td>-3.417168</td>\n",
       "      <td>-4.005179</td>\n",
       "      <td>0.588012</td>\n",
       "      <td>-0.778750</td>\n",
       "    </tr>\n",
       "    <tr>\n",
       "      <th>55996</th>\n",
       "      <td>41.549000</td>\n",
       "      <td>0.000</td>\n",
       "      <td>43.747002</td>\n",
       "      <td>1.421</td>\n",
       "      <td>-1.279</td>\n",
       "      <td>0.000</td>\n",
       "      <td>4</td>\n",
       "      <td>2</td>\n",
       "      <td>2018</td>\n",
       "      <td>6</td>\n",
       "      <td>7</td>\n",
       "      <td>5.748569</td>\n",
       "      <td>-3.364481</td>\n",
       "      <td>-3.958788</td>\n",
       "      <td>0.594307</td>\n",
       "      <td>-0.888500</td>\n",
       "    </tr>\n",
       "    <tr>\n",
       "      <th>55997</th>\n",
       "      <td>40.375999</td>\n",
       "      <td>0.000</td>\n",
       "      <td>41.737000</td>\n",
       "      <td>0.000</td>\n",
       "      <td>0.000</td>\n",
       "      <td>0.000</td>\n",
       "      <td>4</td>\n",
       "      <td>2</td>\n",
       "      <td>2018</td>\n",
       "      <td>6</td>\n",
       "      <td>7</td>\n",
       "      <td>5.746719</td>\n",
       "      <td>-3.273822</td>\n",
       "      <td>-3.874309</td>\n",
       "      <td>0.600487</td>\n",
       "      <td>-0.998500</td>\n",
       "    </tr>\n",
       "    <tr>\n",
       "      <th>55998</th>\n",
       "      <td>38.449001</td>\n",
       "      <td>0.000</td>\n",
       "      <td>39.297001</td>\n",
       "      <td>0.000</td>\n",
       "      <td>0.000</td>\n",
       "      <td>0.000</td>\n",
       "      <td>4</td>\n",
       "      <td>2</td>\n",
       "      <td>2018</td>\n",
       "      <td>6</td>\n",
       "      <td>7</td>\n",
       "      <td>5.744869</td>\n",
       "      <td>-3.143056</td>\n",
       "      <td>-3.749606</td>\n",
       "      <td>0.606550</td>\n",
       "      <td>-1.108500</td>\n",
       "    </tr>\n",
       "    <tr>\n",
       "      <th>55999</th>\n",
       "      <td>38.701000</td>\n",
       "      <td>0.000</td>\n",
       "      <td>40.798000</td>\n",
       "      <td>0.000</td>\n",
       "      <td>-1.557</td>\n",
       "      <td>0.000</td>\n",
       "      <td>4</td>\n",
       "      <td>2</td>\n",
       "      <td>2018</td>\n",
       "      <td>6</td>\n",
       "      <td>7</td>\n",
       "      <td>5.743019</td>\n",
       "      <td>-2.970951</td>\n",
       "      <td>-3.583445</td>\n",
       "      <td>0.612494</td>\n",
       "      <td>-1.108500</td>\n",
       "    </tr>\n",
       "  </tbody>\n",
       "</table>\n",
       "<p>56000 rows × 16 columns</p>\n",
       "</div>"
      ],
      "text/plain": [
       "            HUFL    HULL       MUFL   MULL   LUFL   LULL  day  month  year  \\\n",
       "0      41.130001  12.481  36.535999  9.355  4.424  1.311    1      7  2016   \n",
       "1      39.622002  11.309  35.543999  8.551  3.209  1.258    1      7  2016   \n",
       "2      38.868000  10.555  34.365002  7.586  4.435  1.258    1      7  2016   \n",
       "3      35.518002   9.214  32.569000  8.712  4.435  1.215    1      7  2016   \n",
       "4      37.528000  10.136  33.936001  7.532  4.435  1.215    1      7  2016   \n",
       "...          ...     ...        ...    ...    ...    ...  ...    ...   ...   \n",
       "55995  42.638000   0.000  43.800999  1.448  0.000  0.000    4      2  2018   \n",
       "55996  41.549000   0.000  43.747002  1.421 -1.279  0.000    4      2  2018   \n",
       "55997  40.375999   0.000  41.737000  0.000  0.000  0.000    4      2  2018   \n",
       "55998  38.449001   0.000  39.297001  0.000  0.000  0.000    4      2  2018   \n",
       "55999  38.701000   0.000  40.798000  0.000 -1.557  0.000    4      2  2018   \n",
       "\n",
       "       weekday  hour      trend  additive_terms     daily    weekly  rol_mean2  \n",
       "0            4     0  30.138253       -1.665898 -1.503648 -0.162250        NaN  \n",
       "1            4     0  30.146140       -1.772954 -1.614073 -0.158881  38.442499  \n",
       "2            4     0  30.154028       -1.878027 -1.722370 -0.155658  37.783501  \n",
       "3            4     0  30.161916       -1.980473 -1.827893 -0.152580  37.234001  \n",
       "4            4     1  30.169804       -2.079849 -1.930200 -0.149648  37.124001  \n",
       "...        ...   ...        ...             ...       ...       ...        ...  \n",
       "55995        6     6   5.750419       -3.417168 -4.005179  0.588012  -0.778750  \n",
       "55996        6     7   5.748569       -3.364481 -3.958788  0.594307  -0.888500  \n",
       "55997        6     7   5.746719       -3.273822 -3.874309  0.600487  -0.998500  \n",
       "55998        6     7   5.744869       -3.143056 -3.749606  0.606550  -1.108500  \n",
       "55999        6     7   5.743019       -2.970951 -3.583445  0.612494  -1.108500  \n",
       "\n",
       "[56000 rows x 16 columns]"
      ]
     },
     "execution_count": 43,
     "metadata": {},
     "output_type": "execute_result"
    }
   ],
   "source": [
    "X"
   ]
  },
  {
   "cell_type": "code",
   "execution_count": 44,
   "metadata": {},
   "outputs": [
    {
     "data": {
      "text/plain": [
       "0        38.661999\n",
       "1        38.223000\n",
       "2        37.344002\n",
       "3        37.124001\n",
       "4        37.124001\n",
       "           ...    \n",
       "55995    -0.888500\n",
       "55996    -0.888500\n",
       "55997    -1.108500\n",
       "55998    -1.108500\n",
       "55999    -1.108500\n",
       "Name: y, Length: 56000, dtype: float64"
      ]
     },
     "execution_count": 44,
     "metadata": {},
     "output_type": "execute_result"
    }
   ],
   "source": [
    "y"
   ]
  },
  {
   "cell_type": "code",
   "execution_count": 45,
   "metadata": {},
   "outputs": [],
   "source": [
    "model = XGBRegressor()\n",
    "model_fit = model.fit(X=X,y=y)"
   ]
  },
  {
   "cell_type": "code",
   "execution_count": 46,
   "metadata": {},
   "outputs": [
    {
     "data": {
      "text/plain": [
       "array([-1.0910285 , -0.8611013 , -0.23294555, ..., 45.750114  ,\n",
       "       45.419624  , 45.394024  ], dtype=float32)"
      ]
     },
     "execution_count": 46,
     "metadata": {},
     "output_type": "execute_result"
    }
   ],
   "source": [
    "model_fit.predict(X=df.iloc[56000:,1:].drop('y',axis=1))"
   ]
  },
  {
   "cell_type": "code",
   "execution_count": 71,
   "metadata": {},
   "outputs": [
    {
     "data": {
      "text/plain": [
       "[<matplotlib.lines.Line2D at 0x1cb70a76a90>]"
      ]
     },
     "execution_count": 71,
     "metadata": {},
     "output_type": "execute_result"
    },
    {
     "data": {
      "image/png": "[encoded data removed]",
      "text/plain": [
       "<Figure size 432x288 with 1 Axes>"
      ]
     },
     "metadata": {
      "needs_background": "light"
     },
     "output_type": "display_data"
    }
   ],
   "source": [
    "plt.plot(g[0:100])\n",
    "plt.plot(model_fit.predict(X=df.iloc[56000:,1:].drop('y',axis=1))[0:100])"
   ]
  },
  {
   "cell_type": "code",
   "execution_count": 68,
   "metadata": {},
   "outputs": [
    {
     "data": {
      "text/plain": [
       "0.0071691021036893315"
      ]
     },
     "execution_count": 68,
     "metadata": {},
     "output_type": "execute_result"
    }
   ],
   "source": [
    "mape(g,model_fit.predict(X=df.iloc[56000:,1:].drop('y',axis=1)))"
   ]
  },
  {
   "cell_type": "code",
   "execution_count": 69,
   "metadata": {},
   "outputs": [],
   "source": [
    "# Define the function to return the SMAPE value used to calculate the error.\n",
    "\n",
    "def smape(actual, predicted) -> float:\n",
    "\n",
    "  \n",
    "\n",
    "    # Convert actual and predicted to numpy\n",
    "\n",
    "    # array data type if not already\n",
    "\n",
    "    if not all([isinstance(actual, np.ndarray),\n",
    "\n",
    "                isinstance(predicted, np.ndarray)]):\n",
    "\n",
    "        actual = np.array(actual)\n",
    "\n",
    "        predicted = np.array(predicted)\n",
    "\n",
    "\n",
    "\n",
    "    error = round(\n",
    "\n",
    "        np.mean(\n",
    "\n",
    "            np.abs(predicted - actual) /\n",
    "\n",
    "            ((np.abs(predicted) + np.abs(actual))/2)\n",
    "\n",
    "        )*100, 2)\n",
    "\n",
    "  \n",
    "\n",
    "    return error"
   ]
  },
  {
   "cell_type": "code",
   "execution_count": 70,
   "metadata": {},
   "outputs": [
    {
     "data": {
      "text/plain": [
       "0.72"
      ]
     },
     "execution_count": 70,
     "metadata": {},
     "output_type": "execute_result"
    }
   ],
   "source": [
    "smape(g,model_fit.predict(X=df.iloc[56000:,1:].drop('y',axis=1)))"
   ]
  },
  {
   "cell_type": "markdown",
   "metadata": {},
   "source": [
    "## Light GBM"
   ]
  },
  {
   "cell_type": "code",
   "execution_count": 74,
   "metadata": {},
   "outputs": [
    {
     "name": "stderr",
     "output_type": "stream",
     "text": [
      "C:\\Users\\dreddy86\\AppData\\Local\\Continuum\\anaconda3\\lib\\site-packages\\dask\\dataframe\\utils.py:13: FutureWarning: pandas.util.testing is deprecated. Use the functions in the public API at pandas.testing instead.\n",
      "  import pandas.util.testing as tm\n"
     ]
    }
   ],
   "source": [
    "from lightgbm import LGBMRegressor"
   ]
  },
  {
   "cell_type": "code",
   "execution_count": 77,
   "metadata": {},
   "outputs": [],
   "source": [
    "model_lgm = LGBMRegressor()"
   ]
  },
  {
   "cell_type": "code",
   "execution_count": 78,
   "metadata": {},
   "outputs": [],
   "source": [
    "lgm_fit = model_lgm.fit(X= X,y=y)"
   ]
  },
  {
   "cell_type": "code",
   "execution_count": 80,
   "metadata": {},
   "outputs": [
    {
     "data": {
      "text/plain": [
       "array([-0.86329506, -0.86329506, -0.79524513, ..., 45.67967162,\n",
       "       45.46560517, 45.4606874 ])"
      ]
     },
     "execution_count": 80,
     "metadata": {},
     "output_type": "execute_result"
    }
   ],
   "source": [
    "lgm_fit.predict(X=df.iloc[56000:,1:].drop('y',axis=1))"
   ]
  },
  {
   "cell_type": "code",
   "execution_count": 84,
   "metadata": {},
   "outputs": [
    {
     "data": {
      "text/plain": [
       "[<matplotlib.lines.Line2D at 0x1cb03315d68>]"
      ]
     },
     "execution_count": 84,
     "metadata": {},
     "output_type": "execute_result"
    },
    {
     "data": {
      "image/png": "[encoded data removed]",
      "text/plain": [
       "<Figure size 432x288 with 1 Axes>"
      ]
     },
     "metadata": {
      "needs_background": "light"
     },
     "output_type": "display_data"
    }
   ],
   "source": [
    "plt.plot(g[0:100])\n",
    "plt.plot(lgm_fit.predict(X=df.iloc[56000:,1:].drop('y',axis=1))[0:100])"
   ]
  },
  {
   "cell_type": "code",
   "execution_count": 83,
   "metadata": {},
   "outputs": [
    {
     "data": {
      "text/plain": [
       "0.008471483887705671"
      ]
     },
     "execution_count": 83,
     "metadata": {},
     "output_type": "execute_result"
    }
   ],
   "source": [
    "mape(g,lgm_fit.predict(X=df.iloc[56000:,1:].drop('y',axis=1)))"
   ]
  },
  {
   "cell_type": "code",
   "execution_count": 85,
   "metadata": {},
   "outputs": [
    {
     "data": {
      "text/plain": [
       "0.77"
      ]
     },
     "execution_count": 85,
     "metadata": {},
     "output_type": "execute_result"
    }
   ],
   "source": [
    "smape(g,lgm_fit.predict(X=df.iloc[56000:,1:].drop('y',axis=1)))"
   ]
  },
  {
   "cell_type": "code",
   "execution_count": 93,
   "metadata": {},
   "outputs": [
    {
     "name": "stdout",
     "output_type": "stream",
     "text": [
      "Collecting hyperopt\n",
      "  Downloading hyperopt-0.2.7-py2.py3-none-any.whl (1.6 MB)\n",
      "     ---------------------------------------- 1.6/1.6 MB 87.4 kB/s eta 0:00:00\n",
      "Requirement already satisfied: six in c:\\users\\dreddy86\\appdata\\local\\continuum\\anaconda3\\lib\\site-packages (from hyperopt) (1.11.0)\n",
      "Collecting future\n",
      "  Using cached future-0.18.2.tar.gz (829 kB)\n",
      "  Preparing metadata (setup.py): started\n",
      "  Preparing metadata (setup.py): finished with status 'done'\n",
      "Requirement already satisfied: scipy in c:\\users\\dreddy86\\appdata\\local\\continuum\\anaconda3\\lib\\site-packages (from hyperopt) (1.7.3)\n",
      "Requirement already satisfied: tqdm in c:\\users\\dreddy86\\appdata\\local\\continuum\\anaconda3\\lib\\site-packages (from hyperopt) (4.64.1)\n",
      "Requirement already satisfied: cloudpickle in c:\\users\\dreddy86\\appdata\\local\\continuum\\anaconda3\\lib\\site-packages (from hyperopt) (0.5.5)\n",
      "Collecting py4j\n",
      "  Downloading py4j-0.10.9.7-py2.py3-none-any.whl (200 kB)\n",
      "     ------------------------------------ 200.5/200.5 kB 553.0 kB/s eta 0:00:00\n",
      "Requirement already satisfied: numpy in c:\\users\\dreddy86\\appdata\\local\\continuum\\anaconda3\\lib\\site-packages (from hyperopt) (1.21.6)\n",
      "Collecting networkx>=2.2\n",
      "  Downloading networkx-2.6.3-py3-none-any.whl (1.9 MB)\n",
      "     ---------------------------------------- 1.9/1.9 MB 981.6 kB/s eta 0:00:00\n",
      "Requirement already satisfied: colorama in c:\\users\\dreddy86\\appdata\\local\\continuum\\anaconda3\\lib\\site-packages (from tqdm->hyperopt) (0.3.9)\n",
      "Building wheels for collected packages: future\n",
      "  Building wheel for future (setup.py): started\n",
      "  Building wheel for future (setup.py): finished with status 'done'\n",
      "  Created wheel for future: filename=future-0.18.2-py3-none-any.whl size=491086 sha256=16c6f0ae2a919cc91b996c6bb97297aa20e736f192ac7bf8a5a9f4e7c23e20c5\n",
      "  Stored in directory: c:\\users\\dreddy86\\appdata\\local\\pip\\cache\\wheels\\3e\\3c\\b4\\7132d27620dd551cf00823f798a7190e7320ae7ffb71d1e989\n",
      "Successfully built future\n",
      "Installing collected packages: py4j, networkx, future, hyperopt\n",
      "  Attempting uninstall: networkx\n",
      "    Found existing installation: networkx 2.1\n",
      "    Uninstalling networkx-2.1:\n",
      "      Successfully uninstalled networkx-2.1\n",
      "Successfully installed future-0.18.2 hyperopt-0.2.7 networkx-2.6.3 py4j-0.10.9.7\n"
     ]
    }
   ],
   "source": [
    "!pip install hyperopt"
   ]
  },
  {
   "cell_type": "code",
   "execution_count": null,
   "metadata": {},
   "outputs": [],
   "source": []
  }
 ],
 "metadata": {
  "kernelspec": {
   "display_name": "Python 3",
   "language": "python",
   "name": "python3"
  },
  "language_info": {
   "codemirror_mode": {
    "name": "ipython",
    "version": 3
   },
   "file_extension": ".py",
   "mimetype": "text/x-python",
   "name": "python",
   "nbconvert_exporter": "python",
   "pygments_lexer": "ipython3",
   "version": "3.7.0"
  }
 },
 "nbformat": 4,
 "nbformat_minor": 2
}
