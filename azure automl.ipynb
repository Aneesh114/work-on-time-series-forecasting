{
 "cells": [
  {
   "cell_type": "code",
   "execution_count": 2,
   "metadata": {},
   "outputs": [
    {
     "name": "stdout",
     "output_type": "stream",
     "text": [
      "Collecting azureml-core\n",
      "  Using cached azureml_core-1.47.0-py3-none-any.whl (3.1 MB)\n",
      "Collecting azure-mgmt-containerregistry<11,>=8.2.0\n",
      "  Using cached azure_mgmt_containerregistry-10.0.0-py3-none-any.whl (1.2 MB)\n",
      "Requirement already satisfied: PyJWT<3.0.0 in c:\\users\\dreddy86\\anaconda3\\lib\\site-packages (from azureml-core) (2.1.0)\n",
      "Collecting docker<7.0.0\n",
      "  Using cached docker-6.0.1-py3-none-any.whl (147 kB)\n",
      "Collecting argcomplete<3\n",
      "  Using cached argcomplete-2.0.0-py2.py3-none-any.whl (37 kB)\n",
      "Collecting azure-mgmt-storage<21.0.0,>=16.0.0\n",
      "  Using cached azure_mgmt_storage-20.1.0-py3-none-any.whl (2.3 MB)\n",
      "Collecting contextlib2<22.0.0\n",
      "  Using cached contextlib2-21.6.0-py2.py3-none-any.whl (13 kB)\n",
      "Collecting jsonpickle<3.0.0\n",
      "  Using cached jsonpickle-2.2.0-py2.py3-none-any.whl (39 kB)\n",
      "Requirement already satisfied: requests[socks]<3.0.0,>=2.19.1 in c:\\users\\dreddy86\\anaconda3\\lib\\site-packages (from azureml-core) (2.27.1)\n",
      "Requirement already satisfied: urllib3<2.0.0,>=1.23 in c:\\users\\dreddy86\\anaconda3\\lib\\site-packages (from azureml-core) (1.26.9)\n",
      "Requirement already satisfied: cryptography!=1.9,!=2.0.*,!=2.1.*,!=2.2.*,<41 in c:\\users\\dreddy86\\anaconda3\\lib\\site-packages (from azureml-core) (3.4.8)\n",
      "Requirement already satisfied: jmespath<2.0.0 in c:\\users\\dreddy86\\anaconda3\\lib\\site-packages (from azureml-core) (0.10.0)\n",
      "Collecting msrestazure<=0.6.4,>=0.4.33\n",
      "  Using cached msrestazure-0.6.4-py2.py3-none-any.whl (40 kB)\n",
      "Collecting knack~=0.10.0\n",
      "  Using cached knack-0.10.0-py3-none-any.whl (61 kB)\n",
      "Collecting azure-mgmt-keyvault<11.0.0,>=0.40.0\n",
      "  Using cached azure_mgmt_keyvault-10.1.0-py3-none-any.whl (605 kB)\n",
      "Collecting azure-mgmt-resource<22.0.0,>=15.0.0\n",
      "  Using cached azure_mgmt_resource-21.2.1-py3-none-any.whl (2.3 MB)\n",
      "Requirement already satisfied: backports.tempfile in c:\\users\\dreddy86\\anaconda3\\lib\\site-packages (from azureml-core) (1.0)\n",
      "Collecting azure-graphrbac<1.0.0,>=0.40.0\n",
      "  Using cached azure_graphrbac-0.61.1-py2.py3-none-any.whl (141 kB)\n",
      "Requirement already satisfied: python-dateutil<3.0.0,>=2.7.3 in c:\\users\\dreddy86\\anaconda3\\lib\\site-packages (from azureml-core) (2.8.2)\n",
      "Collecting humanfriendly<11.0,>=4.7\n",
      "  Using cached humanfriendly-10.0-py2.py3-none-any.whl (86 kB)\n",
      "Collecting SecretStorage<4.0.0\n",
      "  Using cached SecretStorage-3.3.3-py3-none-any.whl (15 kB)\n",
      "Collecting ndg-httpsclient<=0.5.1\n",
      "  Using cached ndg_httpsclient-0.5.1-py3-none-any.whl (34 kB)\n",
      "Requirement already satisfied: pytz in c:\\users\\dreddy86\\anaconda3\\lib\\site-packages (from azureml-core) (2021.3)\n",
      "Collecting azure-mgmt-authorization<3,>=0.40.0\n",
      "  Using cached azure_mgmt_authorization-2.0.0-py2.py3-none-any.whl (465 kB)\n",
      "Requirement already satisfied: azure-core<2.0.0 in c:\\users\\dreddy86\\anaconda3\\lib\\site-packages (from azureml-core) (1.26.1)\n",
      "Collecting msrest<=0.7.1,>=0.5.1Note: you may need to restart the kernel to use updated packages.\n"
     ]
    },
    {
     "name": "stderr",
     "output_type": "stream",
     "text": [
      "  WARNING: The script ndg_httpclient.exe is installed in 'C:\\Users\\dreddy86\\AppData\\Roaming\\Python\\Python39\\Scripts' which is not on PATH.\n",
      "  Consider adding this directory to PATH or, if you prefer to suppress this warning, use --no-warn-script-location.\n",
      "  WARNING: The script humanfriendly.exe is installed in 'C:\\Users\\dreddy86\\AppData\\Roaming\\Python\\Python39\\Scripts' which is not on PATH.\n",
      "  Consider adding this directory to PATH or, if you prefer to suppress this warning, use --no-warn-script-location.\n",
      "  WARNING: The script azml.exe is installed in 'C:\\Users\\dreddy86\\AppData\\Roaming\\Python\\Python39\\Scripts' which is not on PATH.\n",
      "  Consider adding this directory to PATH or, if you prefer to suppress this warning, use --no-warn-script-location.\n"
     ]
    },
    {
     "name": "stdout",
     "output_type": "stream",
     "text": [
      "\n",
      "  Using cached msrest-0.7.1-py3-none-any.whl (85 kB)\n",
      "Requirement already satisfied: pkginfo in c:\\users\\dreddy86\\anaconda3\\lib\\site-packages (from azureml-core) (1.8.2)\n",
      "Requirement already satisfied: paramiko<3.0.0,>=2.0.8 in c:\\users\\dreddy86\\anaconda3\\lib\\site-packages (from azureml-core) (2.8.1)\n",
      "Requirement already satisfied: packaging<22.0,>=20.0 in c:\\users\\dreddy86\\anaconda3\\lib\\site-packages (from azureml-core) (21.3)\n",
      "Collecting azure-common<2.0.0,>=1.1.12\n",
      "  Using cached azure_common-1.1.28-py2.py3-none-any.whl (14 kB)\n",
      "Collecting msal-extensions<=1.0.0,>=0.3.0\n",
      "  Using cached msal_extensions-1.0.0-py2.py3-none-any.whl (19 kB)\n",
      "Collecting msal<2.0.0,>=1.15.0\n",
      "  Using cached msal-1.20.0-py2.py3-none-any.whl (90 kB)\n",
      "Collecting adal<=1.2.7,>=1.2.0\n",
      "  Using cached adal-1.2.7-py2.py3-none-any.whl (55 kB)\n",
      "Requirement already satisfied: pyopenssl<23.0.0 in c:\\users\\dreddy86\\anaconda3\\lib\\site-packages (from azureml-core) (21.0.0)\n",
      "Requirement already satisfied: pathspec<1.0.0 in c:\\users\\dreddy86\\anaconda3\\lib\\site-packages (from azureml-core) (0.7.0)\n",
      "Requirement already satisfied: typing-extensions>=4.0.1 in c:\\users\\dreddy86\\anaconda3\\lib\\site-packages (from azure-core<2.0.0->azureml-core) (4.1.1)\n",
      "Requirement already satisfied: six>=1.11.0 in c:\\users\\dreddy86\\anaconda3\\lib\\site-packages (from azure-core<2.0.0->azureml-core) (1.16.0)\n",
      "Collecting azure-mgmt-core<2.0.0,>=1.2.0\n",
      "  Using cached azure_mgmt_core-1.3.2-py3-none-any.whl (26 kB)\n",
      "Requirement already satisfied: cffi>=1.12 in c:\\users\\dreddy86\\anaconda3\\lib\\site-packages (from cryptography!=1.9,!=2.0.*,!=2.1.*,!=2.2.*,<41->azureml-core) (1.15.0)\n",
      "Requirement already satisfied: pycparser in c:\\users\\dreddy86\\anaconda3\\lib\\site-packages (from cffi>=1.12->cryptography!=1.9,!=2.0.*,!=2.1.*,!=2.2.*,<41->azureml-core) (2.21)\n",
      "Collecting pywin32>=304\n",
      "  Using cached pywin32-305-cp39-cp39-win_amd64.whl (12.2 MB)\n",
      "Requirement already satisfied: websocket-client>=0.32.0 in c:\\users\\dreddy86\\anaconda3\\lib\\site-packages (from docker<7.0.0->azureml-core) (0.58.0)\n",
      "Collecting pyreadline3\n",
      "  Using cached pyreadline3-3.4.1-py3-none-any.whl (95 kB)\n",
      "Requirement already satisfied: tabulate in c:\\users\\dreddy86\\anaconda3\\lib\\site-packages (from knack~=0.10.0->azureml-core) (0.8.9)\n",
      "Requirement already satisfied: pyyaml in c:\\users\\dreddy86\\anaconda3\\lib\\site-packages (from knack~=0.10.0->azureml-core) (6.0)\n",
      "Requirement already satisfied: pygments in c:\\users\\dreddy86\\anaconda3\\lib\\site-packages (from knack~=0.10.0->azureml-core) (2.11.2)\n",
      "Collecting portalocker<3,>=1.6\n",
      "  Using cached portalocker-2.6.0-py2.py3-none-any.whl (15 kB)\n",
      "Requirement already satisfied: requests-oauthlib>=0.5.0 in c:\\users\\dreddy86\\anaconda3\\lib\\site-packages (from msrest<=0.7.1,>=0.5.1->azureml-core) (1.3.1)\n",
      "Requirement already satisfied: certifi>=2017.4.17 in c:\\users\\dreddy86\\anaconda3\\lib\\site-packages (from msrest<=0.7.1,>=0.5.1->azureml-core) (2021.10.8)\n",
      "Requirement already satisfied: isodate>=0.6.0 in c:\\users\\dreddy86\\anaconda3\\lib\\site-packages (from msrest<=0.7.1,>=0.5.1->azureml-core) (0.6.1)\n",
      "Requirement already satisfied: pyasn1>=0.1.1 in c:\\users\\dreddy86\\anaconda3\\lib\\site-packages (from ndg-httpsclient<=0.5.1->azureml-core) (0.4.8)\n",
      "Requirement already satisfied: pyparsing!=3.0.5,>=2.0.2 in c:\\users\\dreddy86\\anaconda3\\lib\\site-packages (from packaging<22.0,>=20.0->azureml-core) (3.0.4)\n",
      "Requirement already satisfied: bcrypt>=3.1.3 in c:\\users\\dreddy86\\anaconda3\\lib\\site-packages (from paramiko<3.0.0,>=2.0.8->azureml-core) (3.2.0)\n",
      "Requirement already satisfied: pynacl>=1.0.1 in c:\\users\\dreddy86\\anaconda3\\lib\\site-packages (from paramiko<3.0.0,>=2.0.8->azureml-core) (1.4.0)\n",
      "Requirement already satisfied: idna<4,>=2.5 in c:\\users\\dreddy86\\anaconda3\\lib\\site-packages (from requests[socks]<3.0.0,>=2.19.1->azureml-core) (3.3)\n",
      "Requirement already satisfied: charset-normalizer~=2.0.0 in c:\\users\\dreddy86\\anaconda3\\lib\\site-packages (from requests[socks]<3.0.0,>=2.19.1->azureml-core) (2.0.4)\n",
      "Requirement already satisfied: oauthlib>=3.0.0 in c:\\users\\dreddy86\\anaconda3\\lib\\site-packages (from requests-oauthlib>=0.5.0->msrest<=0.7.1,>=0.5.1->azureml-core) (3.2.2)\n",
      "Requirement already satisfied: PySocks!=1.5.7,>=1.5.6 in c:\\users\\dreddy86\\anaconda3\\lib\\site-packages (from requests[socks]<3.0.0,>=2.19.1->azureml-core) (1.7.1)\n",
      "Collecting jeepney>=0.6\n",
      "  Using cached jeepney-0.8.0-py3-none-any.whl (48 kB)\n",
      "Requirement already satisfied: backports.weakref in c:\\users\\dreddy86\\anaconda3\\lib\\site-packages (from backports.tempfile->azureml-core) (1.0.post1)\n",
      "Installing collected packages: pywin32, msrest, adal, pyreadline3, portalocker, msrestazure, msal, jeepney, azure-mgmt-core, azure-common, argcomplete, SecretStorage, ndg-httpsclient, msal-extensions, knack, jsonpickle, humanfriendly, docker, contextlib2, azure-mgmt-storage, azure-mgmt-resource, azure-mgmt-keyvault, azure-mgmt-containerregistry, azure-mgmt-authorization, azure-graphrbac, azureml-core\n",
      "Successfully installed SecretStorage-3.3.3 adal-1.2.7 argcomplete-2.0.0 azure-common-1.1.28 azure-graphrbac-0.61.1 azure-mgmt-authorization-2.0.0 azure-mgmt-containerregistry-10.0.0 azure-mgmt-core-1.3.2 azure-mgmt-keyvault-10.1.0 azure-mgmt-resource-21.2.1 azure-mgmt-storage-20.1.0 azureml-core-1.47.0 contextlib2-21.6.0 docker-6.0.1 humanfriendly-10.0 jeepney-0.8.0 jsonpickle-2.2.0 knack-0.10.0 msal-1.20.0 msal-extensions-1.0.0 msrest-0.7.1 msrestazure-0.6.4 ndg-httpsclient-0.5.1 portalocker-2.6.0 pyreadline3-3.4.1 pywin32-305\n"
     ]
    }
   ],
   "source": [
    "pip install azureml-core --user"
   ]
  },
  {
   "cell_type": "code",
   "execution_count": 3,
   "metadata": {},
   "outputs": [
    {
     "name": "stdout",
     "output_type": "stream",
     "text": [
      "Name: azureml-core\n",
      "Version: 1.47.0\n",
      "Summary: Azure Machine Learning core packages, modules, and classes\n",
      "Home-page: https://docs.microsoft.com/python/api/overview/azure/ml/?view=azure-ml-py\n",
      "Author: Microsoft Corp\n",
      "Author-email: \n",
      "License: https://aka.ms/azureml-sdk-license\n",
      "Location: c:\\users\\dreddy86\\appdata\\roaming\\python\\python39\\site-packages\n",
      "Requires: knack, azure-mgmt-containerregistry, packaging, msal, requests, msrestazure, jsonpickle, pkginfo, pytz, paramiko, argcomplete, SecretStorage, urllib3, pathspec, msrest, azure-mgmt-authorization, docker, pyopenssl, jmespath, azure-core, azure-mgmt-storage, cryptography, msal-extensions, PyJWT, azure-common, azure-mgmt-resource, adal, ndg-httpsclient, azure-graphrbac, contextlib2, azure-mgmt-keyvault, backports.tempfile, python-dateutil, humanfriendly\n",
      "Required-by: \n",
      "Note: you may need to restart the kernel to use updated packages.\n"
     ]
    }
   ],
   "source": [
    "pip show azureml-core"
   ]
  },
  {
   "cell_type": "code",
   "execution_count": 5,
   "metadata": {},
   "outputs": [
    {
     "name": "stdout",
     "output_type": "stream",
     "text": [
      "Note: you may need to restart the kernel to use updated packages.\n"
     ]
    },
    {
     "name": "stderr",
     "output_type": "stream",
     "text": [
      "WARNING: Package(s) not found: azure-ai-ml\n"
     ]
    }
   ],
   "source": [
    "pip show azure-ai-ml"
   ]
  },
  {
   "cell_type": "code",
   "execution_count": 2,
   "metadata": {},
   "outputs": [
    {
     "name": "stdout",
     "output_type": "stream",
     "text": [
      "Applying\n",
      "[  1536 -23550  13090]\n"
     ]
    }
   ],
   "source": [
    "import numpy as np\n",
    "m = np.array([6,676,8755],dtype = np.int16)\n",
    "print ('Applying')\n",
    "print (m.byteswap(True))"
   ]
  },
  {
   "cell_type": "code",
   "execution_count": null,
   "metadata": {},
   "outputs": [],
   "source": [
    "V = np.array"
   ]
  }
 ],
 "metadata": {
  "kernelspec": {
   "display_name": "Python 3",
   "language": "python",
   "name": "python3"
  },
  "language_info": {
   "codemirror_mode": {
    "name": "ipython",
    "version": 3
   },
   "file_extension": ".py",
   "mimetype": "text/x-python",
   "name": "python",
   "nbconvert_exporter": "python",
   "pygments_lexer": "ipython3",
   "version": "3.7.0"
  }
 },
 "nbformat": 4,
 "nbformat_minor": 5
}
